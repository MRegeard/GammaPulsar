{
 "cells": [
  {
   "cell_type": "markdown",
   "id": "1fb4fbe0",
   "metadata": {},
   "source": [
    "# Computing Fermi-LAT pulsar data"
   ]
  },
  {
   "cell_type": "markdown",
   "id": "31d2fbcf",
   "metadata": {},
   "source": [
    "The aim of this notebook is to show how to use GammaPulsar to compute the pulsar phase of Fermi-Lat data."
   ]
  },
  {
   "cell_type": "markdown",
   "id": "f153ad7c",
   "metadata": {},
   "source": [
    "## Imports and Data handling"
   ]
  },
  {
   "cell_type": "markdown",
   "id": "c0b5e480",
   "metadata": {},
   "source": [
    "Let's first make some imports and define the path to our Fermi-LAT events file and spacecraft file."
   ]
  },
  {
   "cell_type": "code",
   "execution_count": 5,
   "id": "189eef75",
   "metadata": {},
   "outputs": [],
   "source": [
    "from GammaPulsar.fermi import FermiObservations, FermiEvents, FermiPhaseMaker\n",
    "\n",
    "from astropy.coordinates import SkyCoord\n",
    "\n",
    "import json"
   ]
  },
  {
   "cell_type": "code",
   "execution_count": 6,
   "id": "84508101",
   "metadata": {},
   "outputs": [],
   "source": [
    "events_file = \"$GAMMAPULSAR_DATA/fermi/vela_2days/vela_2days_events.fits\"\n",
    "spacecraft_file = \"$GAMMAPULSAR_DATA/fermi/vela_2days/vela_2days_spacecraft.fits\""
   ]
  },
  {
   "cell_type": "markdown",
   "id": "75a29cf2",
   "metadata": {},
   "source": [
    "We then create a `FermiObservations` using the `from_files` methods. "
   ]
  },
  {
   "cell_type": "code",
   "execution_count": 7,
   "id": "50fa8bb4",
   "metadata": {},
   "outputs": [],
   "source": [
    "observations = FermiObservations.from_files(events_files=events_file, spacecrafts_files=spacecraft_file)"
   ]
  },
  {
   "cell_type": "markdown",
   "id": "57a5a6fd",
   "metadata": {},
   "source": [
    "This observations object contain an one `FermiObservation`, itself containning a `FermiEvents` and a `FermiSpacecraft` object.\n",
    "\n",
    "Let's extract this unique `FermiObservation` object. "
   ]
  },
  {
   "cell_type": "code",
   "execution_count": 8,
   "id": "6781c69a",
   "metadata": {},
   "outputs": [],
   "source": [
    "obs = observations[0]"
   ]
  },
  {
   "cell_type": "markdown",
   "id": "3fc338f5",
   "metadata": {},
   "source": [
    "We can now have a look at the events table contained in the `FermiEvents` object. "
   ]
  },
  {
   "cell_type": "code",
   "execution_count": 9,
   "id": "40520953",
   "metadata": {
    "scrolled": true
   },
   "outputs": [
    {
     "data": {
      "text/html": [
       "<div><i>Table length=4899</i>\n",
       "<table id=\"table6036777184\" class=\"table-striped table-bordered table-condensed\">\n",
       "<thead><tr><th>ENERGY</th><th>RA</th><th>DEC</th><th>L</th><th>B</th><th>THETA</th><th>PHI</th><th>ZENITH_ANGLE</th><th>EARTH_AZIMUTH_ANGLE</th><th>TIME</th><th>EVENT_ID</th><th>RUN_ID</th><th>RECON_VERSION</th><th>CALIB_VERSION</th><th>EVENT_CLASS</th><th>EVENT_TYPE</th><th>CONVERSION_TYPE</th><th>LIVETIME</th><th>DIFRSP0</th><th>DIFRSP1</th><th>DIFRSP2</th><th>DIFRSP3</th><th>DIFRSP4</th><th>PULSE_PHASE</th></tr></thead>\n",
       "<thead><tr><th>MeV</th><th>deg</th><th>deg</th><th>deg</th><th>deg</th><th>deg</th><th>deg</th><th>deg</th><th>deg</th><th>s</th><th></th><th></th><th></th><th></th><th></th><th></th><th></th><th>s</th><th></th><th></th><th></th><th></th><th></th><th></th></tr></thead>\n",
       "<thead><tr><th>float32</th><th>float32</th><th>float32</th><th>float32</th><th>float32</th><th>float32</th><th>float32</th><th>float32</th><th>float32</th><th>float64</th><th>int32</th><th>int32</th><th>int16</th><th>int16[3]</th><th>bool[32]</th><th>bool[32]</th><th>int16</th><th>float64</th><th>float32</th><th>float32</th><th>float32</th><th>float32</th><th>float32</th><th>float64</th></tr></thead>\n",
       "<tr><td>52.199474</td><td>145.1223</td><td>-54.629803</td><td>277.55798</td><td>-1.4525373</td><td>9.108761</td><td>70.05413</td><td>44.111633</td><td>152.51736</td><td>499137738.6207186</td><td>1589304</td><td>499137307</td><td>0</td><td>0 .. 0</td><td>False .. True</td><td>False .. True</td><td>0</td><td>75.78507024049759</td><td>0.0</td><td>0.0</td><td>0.0</td><td>0.0</td><td>0.0</td><td>0.8431260226380742</td></tr>\n",
       "<tr><td>284.0746</td><td>143.75316</td><td>-56.40009</td><td>278.16013</td><td>-3.2889855</td><td>6.2098026</td><td>90.34294</td><td>44.42939</td><td>157.37547</td><td>499137789.82818514</td><td>1731249</td><td>499137307</td><td>0</td><td>0 .. 0</td><td>False .. True</td><td>False .. True</td><td>0</td><td>126.99253678321838</td><td>0.0</td><td>0.0</td><td>0.0</td><td>0.0</td><td>0.0</td><td>0.700449422177881</td></tr>\n",
       "<tr><td>46.53251</td><td>141.13872</td><td>-55.284657</td><td>276.32416</td><td>-3.4871144</td><td>7.5151353</td><td>112.30064</td><td>42.546646</td><td>160.13455</td><td>499137833.41689736</td><td>1846818</td><td>499137307</td><td>0</td><td>0 .. 0</td><td>False .. True</td><td>False .. True</td><td>0</td><td>170.58124899864197</td><td>0.0</td><td>0.0</td><td>0.0</td><td>0.0</td><td>0.0</td><td>0.3263010641267725</td></tr>\n",
       "<tr><td>513.7142</td><td>136.21635</td><td>-55.439697</td><td>274.50073</td><td>-5.619</td><td>32.575047</td><td>173.38452</td><td>57.94371</td><td>193.46944</td><td>499138503.8478784</td><td>3143157</td><td>499137307</td><td>0</td><td>0 .. 0</td><td>False .. True</td><td>False .. True</td><td>0</td><td>46.99963027238846</td><td>0.0</td><td>0.0</td><td>0.0</td><td>0.0</td><td>0.0</td><td>0.3597832684371744</td></tr>\n",
       "<tr><td>282.0987</td><td>139.33492</td><td>-56.89352</td><td>276.75735</td><td>-5.334833</td><td>10.782901</td><td>163.72531</td><td>44.94696</td><td>170.33803</td><td>499149417.65043396</td><td>372974</td><td>499149294</td><td>0</td><td>0 .. 0</td><td>False .. True</td><td>False .. True</td><td>0</td><td>120.00128203630447</td><td>0.0</td><td>0.0</td><td>0.0</td><td>0.0</td><td>0.0</td><td>0.8877265175614312</td></tr>\n",
       "<tr><td>396.63797</td><td>145.57863</td><td>-55.54905</td><td>278.35886</td><td>-1.9744414</td><td>8.541765</td><td>157.79271</td><td>45.28164</td><td>166.61441</td><td>499149449.159501</td><td>449548</td><td>499149294</td><td>0</td><td>0 .. 0</td><td>False .. True</td><td>False .. False</td><td>1</td><td>151.5103490948677</td><td>0.0</td><td>0.0</td><td>0.0</td><td>0.0</td><td>0.0</td><td>0.37723979413497455</td></tr>\n",
       "<tr><td>61.99164</td><td>141.82166</td><td>-56.967182</td><td>277.7733</td><td>-4.4282804</td><td>15.751049</td><td>176.12804</td><td>48.336662</td><td>176.27562</td><td>499149586.16385925</td><td>757033</td><td>499149294</td><td>0</td><td>0 .. 0</td><td>False .. True</td><td>False .. True</td><td>0</td><td>30.666968822479248</td><td>0.0</td><td>0.0</td><td>0.0</td><td>0.0</td><td>0.0</td><td>0.031491794002498005</td></tr>\n",
       "<tr><td>1194.454</td><td>142.68428</td><td>-54.689682</td><td>276.55283</td><td>-2.443972</td><td>19.719585</td><td>172.35884</td><td>49.000313</td><td>180.64934</td><td>499149704.38045764</td><td>998386</td><td>499149294</td><td>0</td><td>0 .. 0</td><td>False .. True</td><td>False .. True</td><td>0</td><td>148.88356721401215</td><td>0.0</td><td>0.0</td><td>0.0</td><td>0.0</td><td>0.0</td><td>0.5051692846469618</td></tr>\n",
       "<tr><td>256.74582</td><td>145.10135</td><td>-54.36117</td><td>277.37177</td><td>-1.2584938</td><td>25.707987</td><td>173.63463</td><td>54.13648</td><td>186.39784</td><td>499149888.3786183</td><td>1347166</td><td>499149294</td><td>0</td><td>0 .. 0</td><td>False .. True</td><td>False .. True</td><td>0</td><td>53.977064311504364</td><td>0.0</td><td>0.0</td><td>0.0</td><td>0.0</td><td>0.0</td><td>0.8622278331308556</td></tr>\n",
       "<tr><td>388.96347</td><td>141.35648</td><td>-55.485233</td><td>276.55325</td><td>-3.544119</td><td>35.3628</td><td>172.6196</td><td>62.70067</td><td>194.4824</td><td>499150071.6970757</td><td>1680007</td><td>499149294</td><td>0</td><td>0 .. 0</td><td>False .. True</td><td>False .. False</td><td>1</td><td>237.29552173614502</td><td>0.0</td><td>0.0</td><td>0.0</td><td>0.0</td><td>0.0</td><td>0.608790271040499</td></tr>\n",
       "<tr><td>1254.1447</td><td>141.1388</td><td>-55.975483</td><td>276.80887</td><td>-3.9803495</td><td>35.780018</td><td>174.64954</td><td>63.72382</td><td>194.39552</td><td>499161504.18185484</td><td>696436</td><td>499161207</td><td>0</td><td>0 .. 0</td><td>False .. True</td><td>False .. False</td><td>1</td><td>293.53092217445374</td><td>0.0</td><td>0.0</td><td>0.0</td><td>0.0</td><td>0.0</td><td>0.5692694365974444</td></tr>\n",
       "<tr><td>424.73218</td><td>146.89941</td><td>-54.22834</td><td>278.0835</td><td>-0.47597808</td><td>30.30634</td><td>43.98158</td><td>59.663242</td><td>139.7712</td><td>499171464.6009154</td><td>8264995</td><td>499167157</td><td>0</td><td>0 .. 0</td><td>False .. True</td><td>False .. True</td><td>0</td><td>16.963837444782257</td><td>0.0</td><td>0.0</td><td>0.0</td><td>0.0</td><td>0.0</td><td>0.6106001073494176</td></tr>\n",
       "<tr><td>101.21746</td><td>141.20685</td><td>-56.160233</td><td>276.96573</td><td>-4.085686</td><td>17.09148</td><td>50.990234</td><td>49.03428</td><td>145.72116</td><td>499171713.78986734</td><td>8789410</td><td>499167157</td><td>0</td><td>0 .. 0</td><td>False .. True</td><td>False .. True</td><td>0</td><td>0.0051801204681396484</td><td>0.0</td><td>0.0</td><td>0.0</td><td>0.0</td><td>0.0</td><td>0.3129879076030434</td></tr>\n",
       "<tr><td>663.33905</td><td>142.83493</td><td>-57.115643</td><td>278.27652</td><td>-4.156084</td><td>10.492716</td><td>53.93294</td><td>47.18674</td><td>150.87419</td><td>499171870.3144862</td><td>9109143</td><td>499167157</td><td>0</td><td>0 .. 0</td><td>False .. True</td><td>False .. False</td><td>1</td><td>156.5297989845276</td><td>0.0</td><td>0.0</td><td>0.0</td><td>0.0</td><td>0.0</td><td>0.36228885280969136</td></tr>\n",
       "<tr><td>54.665886</td><td>145.83064</td><td>-55.336716</td><td>278.3285</td><td>-1.7202737</td><td>42.856243</td><td>164.2693</td><td>72.46052</td><td>199.04623</td><td>499173180.82684153</td><td>536716</td><td>499172958</td><td>0</td><td>0 .. 0</td><td>False .. True</td><td>False .. True</td><td>0</td><td>219.1726993918419</td><td>0.0</td><td>0.0</td><td>0.0</td><td>0.0</td><td>0.0</td><td>0.897850582485491</td></tr>\n",
       "<tr><td>1277.2559</td><td>144.27737</td><td>-56.002308</td><td>278.1093</td><td>-2.798386</td><td>52.250675</td><td>54.55338</td><td>84.15366</td><td>149.0412</td><td>499182251.2573963</td><td>7745631</td><td>499178260</td><td>0</td><td>0 .. 0</td><td>False .. True</td><td>False .. False</td><td>1</td><td>53.68788254261017</td><td>0.0</td><td>0.0</td><td>0.0</td><td>0.0</td><td>0.0</td><td>0.5852648849103619</td></tr>\n",
       "<tr><td>104.92326</td><td>142.57379</td><td>-55.514767</td><td>277.07242</td><td>-3.0884757</td><td>49.36848</td><td>54.367332</td><td>79.81721</td><td>146.51302</td><td>499182335.87772185</td><td>8010877</td><td>499178260</td><td>0</td><td>0 .. 0</td><td>False .. True</td><td>False .. False</td><td>1</td><td>14.680038452148438</td><td>0.0</td><td>0.0</td><td>0.0</td><td>0.0</td><td>0.0</td><td>0.25104166458677435</td></tr>\n",
       "<tr><td>72.64915</td><td>143.32838</td><td>-56.70349</td><td>278.19284</td><td>-3.6708279</td><td>29.136976</td><td>45.740593</td><td>59.639034</td><td>142.57625</td><td>499182835.25923556</td><td>9583484</td><td>499178260</td><td>0</td><td>0 .. 0</td><td>False .. True</td><td>False .. True</td><td>0</td><td>103.97645872831345</td><td>0.0</td><td>0.0</td><td>0.0</td><td>0.0</td><td>0.0</td><td>0.9228181053809104</td></tr>\n",
       "<tr><td>320.29343</td><td>141.89552</td><td>-55.3469</td><td>276.67725</td><td>-3.231985</td><td>6.7213807</td><td>89.30022</td><td>44.21824</td><td>156.10065</td><td>499183461.77064973</td><td>11082807</td><td>499178260</td><td>0</td><td>0 .. 0</td><td>False .. True</td><td>False .. False</td><td>1</td><td>118.07559901475906</td><td>0.0</td><td>0.0</td><td>0.0</td><td>0.0</td><td>0.0</td><td>0.7493030674840534</td></tr>\n",
       "<tr><td>...</td><td>...</td><td>...</td><td>...</td><td>...</td><td>...</td><td>...</td><td>...</td><td>...</td><td>...</td><td>...</td><td>...</td><td>...</td><td>...</td><td>...</td><td>...</td><td>...</td><td>...</td><td>...</td><td>...</td><td>...</td><td>...</td><td>...</td><td>...</td></tr>\n",
       "<tr><td>225.90584</td><td>138.74373</td><td>-36.900265</td><td>262.03784</td><td>8.243806</td><td>25.937096</td><td>77.30843</td><td>37.85024</td><td>127.68227</td><td>499297571.33462805</td><td>4304484</td><td>499296422</td><td>0</td><td>0 .. 0</td><td>False .. True</td><td>False .. False</td><td>1</td><td>169.34670650959015</td><td>0.0</td><td>0.0</td><td>0.0</td><td>0.0</td><td>0.0</td><td>0.3742063874483244</td></tr>\n",
       "<tr><td>154.17245</td><td>137.89825</td><td>-37.144596</td><td>261.75397</td><td>7.5832834</td><td>24.701504</td><td>80.90357</td><td>36.251877</td><td>130.1044</td><td>499297603.00881004</td><td>4384717</td><td>499296422</td><td>0</td><td>0 .. 0</td><td>False .. True</td><td>False .. True</td><td>0</td><td>201.02088850736618</td><td>0.0</td><td>0.0</td><td>0.0</td><td>0.0</td><td>0.0</td><td>0.714036270984695</td></tr>\n",
       "<tr><td>117.74741</td><td>126.71643</td><td>-38.739975</td><td>257.42365</td><td>-0.2624032</td><td>22.415382</td><td>116.82771</td><td>27.750141</td><td>154.67412</td><td>499297743.4172173</td><td>4707932</td><td>499296422</td><td>0</td><td>0 .. 0</td><td>False .. True</td><td>False .. False</td><td>1</td><td>115.80997282266617</td><td>0.0</td><td>0.0</td><td>0.0</td><td>0.0</td><td>0.0</td><td>0.46314734295937493</td></tr>\n",
       "<tr><td>135.7589</td><td>131.52803</td><td>-31.976934</td><td>254.36333</td><td>6.9325857</td><td>27.351147</td><td>103.38582</td><td>24.990713</td><td>139.10973</td><td>499297753.019059</td><td>4728315</td><td>499296422</td><td>0</td><td>0 .. 0</td><td>False .. True</td><td>False .. True</td><td>0</td><td>125.4118145108223</td><td>0.0</td><td>0.0</td><td>0.0</td><td>0.0</td><td>0.0</td><td>0.8787831204871939</td></tr>\n",
       "<tr><td>293.7213</td><td>127.04734</td><td>-39.565395</td><td>258.24408</td><td>-0.5345087</td><td>21.54645</td><td>121.82512</td><td>28.545034</td><td>159.39885</td><td>499297785.5102985</td><td>4795377</td><td>499296422</td><td>0</td><td>0 .. 0</td><td>False .. True</td><td>False .. False</td><td>1</td><td>157.90305399894714</td><td>0.0</td><td>0.0</td><td>0.0</td><td>0.0</td><td>0.0</td><td>0.3575367402146453</td></tr>\n",
       "<tr><td>182.6508</td><td>125.33242</td><td>-39.336517</td><td>257.2939</td><td>-1.4849494</td><td>22.491745</td><td>126.15097</td><td>27.860987</td><td>163.332</td><td>499297800.6258639</td><td>4826175</td><td>499296422</td><td>0</td><td>0 .. 0</td><td>False .. True</td><td>False .. True</td><td>0</td><td>173.01861941814423</td><td>0.0</td><td>0.0</td><td>0.0</td><td>0.0</td><td>0.0</td><td>0.45492870744539704</td></tr>\n",
       "<tr><td>1493.3834</td><td>135.46152</td><td>-37.46499</td><td>260.6912</td><td>5.9263616</td><td>20.592358</td><td>104.9054</td><td>30.368069</td><td>147.77144</td><td>499297804.85365057</td><td>4834799</td><td>499296422</td><td>0</td><td>0 .. 0</td><td>False .. True</td><td>False .. False</td><td>1</td><td>177.24640607833862</td><td>0.0</td><td>0.0</td><td>0.0</td><td>0.0</td><td>0.0</td><td>0.7510448088863968</td></tr>\n",
       "<tr><td>211.68347</td><td>134.28159</td><td>-32.180904</td><td>256.0042</td><td>8.618341</td><td>25.74384</td><td>104.510826</td><td>25.579702</td><td>143.48021</td><td>499297821.7351265</td><td>4868613</td><td>499296422</td><td>0</td><td>0 .. 0</td><td>False .. True</td><td>False .. True</td><td>0</td><td>194.12788200378418</td><td>0.0</td><td>0.0</td><td>0.0</td><td>0.0</td><td>0.0</td><td>0.6035384591210036</td></tr>\n",
       "<tr><td>372.0462</td><td>140.17244</td><td>-36.998745</td><td>262.90802</td><td>9.0008545</td><td>19.335598</td><td>99.489365</td><td>32.008038</td><td>145.97359</td><td>499297851.5046814</td><td>4926616</td><td>499296422</td><td>0</td><td>0 .. 0</td><td>False .. True</td><td>False .. False</td><td>1</td><td>223.89743691682816</td><td>0.0</td><td>0.0</td><td>0.0</td><td>0.0</td><td>0.0</td><td>0.63435313116785</td></tr>\n",
       "<tr><td>515.14417</td><td>140.9862</td><td>-37.33605</td><td>263.6121</td><td>9.2267</td><td>18.18502</td><td>107.0379</td><td>32.074417</td><td>151.80983</td><td>499297923.40850437</td><td>5061595</td><td>499296422</td><td>0</td><td>0 .. 0</td><td>False .. True</td><td>False .. False</td><td>1</td><td>37.14664328098297</td><td>0.0</td><td>0.0</td><td>0.0</td><td>0.0</td><td>0.0</td><td>0.018597558687016312</td></tr>\n",
       "<tr><td>52.59737</td><td>134.16098</td><td>-39.470757</td><td>261.55032</td><td>3.846217</td><td>24.038548</td><td>149.32672</td><td>36.17929</td><td>183.47221</td><td>499298170.5803134</td><td>5483155</td><td>499296422</td><td>0</td><td>0 .. 0</td><td>False .. True</td><td>False .. False</td><td>1</td><td>3.987648665904999</td><td>0.0</td><td>0.0</td><td>0.0</td><td>0.0</td><td>0.0</td><td>0.10669177018270776</td></tr>\n",
       "<tr><td>188.62376</td><td>129.06554</td><td>-39.585476</td><td>259.18253</td><td>0.70627356</td><td>29.816683</td><td>157.47586</td><td>39.674656</td><td>194.36311</td><td>499298242.8786465</td><td>5600655</td><td>499296422</td><td>0</td><td>0 .. 0</td><td>False .. True</td><td>False .. False</td><td>1</td><td>76.28598177433014</td><td>0.0</td><td>0.0</td><td>0.0</td><td>0.0</td><td>0.0</td><td>0.8987065610412801</td></tr>\n",
       "<tr><td>1066.3567</td><td>124.480255</td><td>-39.712997</td><td>257.2335</td><td>-2.2400258</td><td>35.183083</td><td>162.53983</td><td>43.91489</td><td>202.19933</td><td>499298304.08791643</td><td>5700524</td><td>499296422</td><td>0</td><td>0 .. 0</td><td>False .. True</td><td>False .. False</td><td>1</td><td>137.49525171518326</td><td>0.0</td><td>0.0</td><td>0.0</td><td>0.0</td><td>0.0</td><td>0.6379178335610135</td></tr>\n",
       "<tr><td>3166.0886</td><td>129.6384</td><td>-38.77604</td><td>258.80597</td><td>1.5492604</td><td>35.316467</td><td>161.34132</td><td>45.644165</td><td>202.15492</td><td>499298400.4768437</td><td>5858273</td><td>499296422</td><td>0</td><td>0 .. 0</td><td>False .. True</td><td>False .. True</td><td>0</td><td>233.88417899608612</td><td>0.0</td><td>0.0</td><td>0.0</td><td>0.0</td><td>0.0</td><td>0.9252612041220637</td></tr>\n",
       "<tr><td>437.8083</td><td>142.02579</td><td>-37.064106</td><td>264.0133</td><td>10.003334</td><td>27.846178</td><td>153.50656</td><td>41.90988</td><td>191.79123</td><td>499298435.61583287</td><td>5916439</td><td>499296422</td><td>0</td><td>0 .. 0</td><td>False .. True</td><td>False .. True</td><td>0</td><td>6.057884633541107</td><td>0.0</td><td>0.0</td><td>0.0</td><td>0.0</td><td>0.0</td><td>0.018994916203239353</td></tr>\n",
       "<tr><td>297.1876</td><td>136.24277</td><td>-37.380833</td><td>261.03983</td><td>6.447795</td><td>33.118736</td><td>157.7121</td><td>44.877956</td><td>199.41534</td><td>499298462.52141786</td><td>5961495</td><td>499296422</td><td>0</td><td>0 .. 0</td><td>False .. True</td><td>False .. True</td><td>0</td><td>32.96346962451935</td><td>0.0</td><td>0.0</td><td>0.0</td><td>0.0</td><td>0.0</td><td>0.006918495920165331</td></tr>\n",
       "<tr><td>9615.743</td><td>134.87793</td><td>-32.933273</td><td>256.91373</td><td>8.519132</td><td>36.201355</td><td>151.42456</td><td>42.042908</td><td>204.47147</td><td>499298475.9519633</td><td>5983979</td><td>499296422</td><td>0</td><td>0 .. 0</td><td>False .. True</td><td>False .. False</td><td>1</td><td>46.394015073776245</td><td>0.0</td><td>0.0</td><td>0.0</td><td>0.0</td><td>0.0</td><td>0.2519568074241076</td></tr>\n",
       "<tr><td>263.03574</td><td>134.95343</td><td>-37.00018</td><td>260.0717</td><td>5.924866</td><td>39.421516</td><td>159.81625</td><td>51.444687</td><td>206.89809</td><td>499298598.77208596</td><td>6195127</td><td>499296422</td><td>0</td><td>0 .. 0</td><td>False .. True</td><td>False .. True</td><td>0</td><td>169.21413773298264</td><td>0.0</td><td>0.0</td><td>0.0</td><td>0.0</td><td>0.0</td><td>0.21661655731227075</td></tr>\n",
       "<tr><td>1424.0302</td><td>127.8513</td><td>-38.442913</td><td>257.70267</td><td>0.6304529</td><td>62.952938</td><td>146.24492</td><td>80.985306</td><td>224.02386</td><td>499299058.6257986</td><td>7017477</td><td>499296422</td><td>0</td><td>0 .. 0</td><td>False .. True</td><td>False .. True</td><td>0</td><td>20.025878250598907</td><td>0.0</td><td>0.0</td><td>0.0</td><td>0.0</td><td>0.0</td><td>0.4934066626707047</td></tr>\n",
       "</table></div>"
      ],
      "text/plain": [
       "<Table length=4899>\n",
       "  ENERGY      RA        DEC         L          B      ... DIFRSP1 DIFRSP2 DIFRSP3 DIFRSP4     PULSE_PHASE     \n",
       "   MeV       deg        deg        deg        deg     ...                                                     \n",
       " float32   float32    float32    float32    float32   ... float32 float32 float32 float32       float64       \n",
       "--------- ---------- ---------- --------- ----------- ... ------- ------- ------- ------- --------------------\n",
       "52.199474   145.1223 -54.629803 277.55798  -1.4525373 ...     0.0     0.0     0.0     0.0   0.8431260226380742\n",
       " 284.0746  143.75316  -56.40009 278.16013  -3.2889855 ...     0.0     0.0     0.0     0.0    0.700449422177881\n",
       " 46.53251  141.13872 -55.284657 276.32416  -3.4871144 ...     0.0     0.0     0.0     0.0   0.3263010641267725\n",
       " 513.7142  136.21635 -55.439697 274.50073      -5.619 ...     0.0     0.0     0.0     0.0   0.3597832684371744\n",
       " 282.0987  139.33492  -56.89352 276.75735   -5.334833 ...     0.0     0.0     0.0     0.0   0.8877265175614312\n",
       "396.63797  145.57863  -55.54905 278.35886  -1.9744414 ...     0.0     0.0     0.0     0.0  0.37723979413497455\n",
       " 61.99164  141.82166 -56.967182  277.7733  -4.4282804 ...     0.0     0.0     0.0     0.0 0.031491794002498005\n",
       " 1194.454  142.68428 -54.689682 276.55283   -2.443972 ...     0.0     0.0     0.0     0.0   0.5051692846469618\n",
       "256.74582  145.10135  -54.36117 277.37177  -1.2584938 ...     0.0     0.0     0.0     0.0   0.8622278331308556\n",
       "388.96347  141.35648 -55.485233 276.55325   -3.544119 ...     0.0     0.0     0.0     0.0    0.608790271040499\n",
       "1254.1447   141.1388 -55.975483 276.80887  -3.9803495 ...     0.0     0.0     0.0     0.0   0.5692694365974444\n",
       "424.73218  146.89941  -54.22834  278.0835 -0.47597808 ...     0.0     0.0     0.0     0.0   0.6106001073494176\n",
       "101.21746  141.20685 -56.160233 276.96573   -4.085686 ...     0.0     0.0     0.0     0.0   0.3129879076030434\n",
       "663.33905  142.83493 -57.115643 278.27652   -4.156084 ...     0.0     0.0     0.0     0.0  0.36228885280969136\n",
       "54.665886  145.83064 -55.336716  278.3285  -1.7202737 ...     0.0     0.0     0.0     0.0    0.897850582485491\n",
       "1277.2559  144.27737 -56.002308  278.1093   -2.798386 ...     0.0     0.0     0.0     0.0   0.5852648849103619\n",
       "104.92326  142.57379 -55.514767 277.07242  -3.0884757 ...     0.0     0.0     0.0     0.0  0.25104166458677435\n",
       " 72.64915  143.32838  -56.70349 278.19284  -3.6708279 ...     0.0     0.0     0.0     0.0   0.9228181053809104\n",
       "320.29343  141.89552   -55.3469 276.67725   -3.231985 ...     0.0     0.0     0.0     0.0   0.7493030674840534\n",
       "      ...        ...        ...       ...         ... ...     ...     ...     ...     ...                  ...\n",
       "225.90584  138.74373 -36.900265 262.03784    8.243806 ...     0.0     0.0     0.0     0.0   0.3742063874483244\n",
       "154.17245  137.89825 -37.144596 261.75397   7.5832834 ...     0.0     0.0     0.0     0.0    0.714036270984695\n",
       "117.74741  126.71643 -38.739975 257.42365  -0.2624032 ...     0.0     0.0     0.0     0.0  0.46314734295937493\n",
       " 135.7589  131.52803 -31.976934 254.36333   6.9325857 ...     0.0     0.0     0.0     0.0   0.8787831204871939\n",
       " 293.7213  127.04734 -39.565395 258.24408  -0.5345087 ...     0.0     0.0     0.0     0.0   0.3575367402146453\n",
       " 182.6508  125.33242 -39.336517  257.2939  -1.4849494 ...     0.0     0.0     0.0     0.0  0.45492870744539704\n",
       "1493.3834  135.46152  -37.46499  260.6912   5.9263616 ...     0.0     0.0     0.0     0.0   0.7510448088863968\n",
       "211.68347  134.28159 -32.180904  256.0042    8.618341 ...     0.0     0.0     0.0     0.0   0.6035384591210036\n",
       " 372.0462  140.17244 -36.998745 262.90802   9.0008545 ...     0.0     0.0     0.0     0.0     0.63435313116785\n",
       "515.14417   140.9862  -37.33605  263.6121      9.2267 ...     0.0     0.0     0.0     0.0 0.018597558687016312\n",
       " 52.59737  134.16098 -39.470757 261.55032    3.846217 ...     0.0     0.0     0.0     0.0  0.10669177018270776\n",
       "188.62376  129.06554 -39.585476 259.18253  0.70627356 ...     0.0     0.0     0.0     0.0   0.8987065610412801\n",
       "1066.3567 124.480255 -39.712997  257.2335  -2.2400258 ...     0.0     0.0     0.0     0.0   0.6379178335610135\n",
       "3166.0886   129.6384  -38.77604 258.80597   1.5492604 ...     0.0     0.0     0.0     0.0   0.9252612041220637\n",
       " 437.8083  142.02579 -37.064106  264.0133   10.003334 ...     0.0     0.0     0.0     0.0 0.018994916203239353\n",
       " 297.1876  136.24277 -37.380833 261.03983    6.447795 ...     0.0     0.0     0.0     0.0 0.006918495920165331\n",
       " 9615.743  134.87793 -32.933273 256.91373    8.519132 ...     0.0     0.0     0.0     0.0   0.2519568074241076\n",
       "263.03574  134.95343  -37.00018  260.0717    5.924866 ...     0.0     0.0     0.0     0.0  0.21661655731227075\n",
       "1424.0302   127.8513 -38.442913 257.70267   0.6304529 ...     0.0     0.0     0.0     0.0   0.4934066626707047"
      ]
     },
     "execution_count": 9,
     "metadata": {},
     "output_type": "execute_result"
    }
   ],
   "source": [
    "obs.fermi_events.table"
   ]
  },
  {
   "cell_type": "markdown",
   "id": "a6e03d6f",
   "metadata": {},
   "source": [
    "## Compute the pulsar phase"
   ]
  },
  {
   "cell_type": "markdown",
   "id": "0294309f",
   "metadata": {},
   "source": [
    "First of all, let us define the position of the pulsar. This is required if you want to compute the weightcolumn. We also define the ephemeris file that we will use for the phase computation."
   ]
  },
  {
   "cell_type": "code",
   "execution_count": 10,
   "id": "2d90815f",
   "metadata": {},
   "outputs": [],
   "source": [
    "target_coord = SkyCoord(128.83606354, -45.17643181, unit='deg', frame='icrs')"
   ]
  },
  {
   "cell_type": "code",
   "execution_count": 11,
   "id": "e0a3fd8c",
   "metadata": {},
   "outputs": [],
   "source": [
    "ephemeris_file = \"$GAMMAPULSAR_DATA/ephemeris/vela/J0835-4510_tnfit_220401.par\""
   ]
  },
  {
   "cell_type": "markdown",
   "id": "0d2ea821",
   "metadata": {},
   "source": [
    "Now we can initialise out `FermiPhaseMaker`. \n",
    "\n",
    "The `FermiPhaseMaker` takes two arguments : `observation` the `FermiObservation` for which we want to compute the phase, and `ephemeris_file` the path to the ephemeris file that will be used to compute the phase. \n",
    "\n",
    "It also take 6 keywords arguments :`ephem = 'DE421'`, `include_bipm=False`, `include_gps=False`, `planets=False'`, `weightcolumn=None` and`targetcolulm=None`. For more details about them, look at the documentation of `FermiPhaseMaker`, as well as [PINT documentation](https://nanograv-pint.readthedocs.io/en/latest/). \n",
    "\n",
    "Here we initialise the maker with the observation and the ephemeris file that we have define above. Moreover, we will compute the wieghtcolumn in mode `'CALC'`. "
   ]
  },
  {
   "cell_type": "code",
   "execution_count": 12,
   "id": "9a0e677c",
   "metadata": {
    "scrolled": true
   },
   "outputs": [
    {
     "name": "stderr",
     "output_type": "stream",
     "text": [
      "/Users/mregeard/anaconda3/envs/GammaPulsar/lib/python3.9/site-packages/pint/models/model_builder.py:139: UserWarning: Unrecognized parfile line 'LATPHASE 0.1240665072'\n",
      "  warnings.warn(f\"Unrecognized parfile line '{p_line}'\", UserWarning)\n",
      "/Users/mregeard/anaconda3/envs/GammaPulsar/lib/python3.9/site-packages/pint/models/model_builder.py:139: UserWarning: Unrecognized parfile line 'LATAMP -4.67756 0.06'\n",
      "  warnings.warn(f\"Unrecognized parfile line '{p_line}'\", UserWarning)\n",
      "/Users/mregeard/anaconda3/envs/GammaPulsar/lib/python3.9/site-packages/pint/models/model_builder.py:139: UserWarning: Unrecognized parfile line 'LATIDX 6.29949 0.13'\n",
      "  warnings.warn(f\"Unrecognized parfile line '{p_line}'\", UserWarning)\n",
      "/Users/mregeard/anaconda3/envs/GammaPulsar/lib/python3.9/site-packages/pint/models/model_builder.py:139: UserWarning: Unrecognized parfile line 'LATNHARM 95'\n",
      "  warnings.warn(f\"Unrecognized parfile line '{p_line}'\", UserWarning)\n",
      "/Users/mregeard/anaconda3/envs/GammaPulsar/lib/python3.9/site-packages/pint/models/model_builder.py:139: UserWarning: Unrecognized parfile line 'LATMINWT 0.990000'\n",
      "  warnings.warn(f\"Unrecognized parfile line '{p_line}'\", UserWarning)\n",
      "/Users/mregeard/anaconda3/envs/GammaPulsar/lib/python3.9/site-packages/pint/models/model_builder.py:139: UserWarning: Unrecognized parfile line 'LATPHOT 503032'\n",
      "  warnings.warn(f\"Unrecognized parfile line '{p_line}'\", UserWarning)\n",
      "/Users/mregeard/anaconda3/envs/GammaPulsar/lib/python3.9/site-packages/pint/models/model_builder.py:139: UserWarning: Unrecognized parfile line 'LATFN 2'\n",
      "  warnings.warn(f\"Unrecognized parfile line '{p_line}'\", UserWarning)\n",
      "/Users/mregeard/anaconda3/envs/GammaPulsar/lib/python3.9/site-packages/pint/models/model_builder.py:139: UserWarning: Unrecognized parfile line 'LATLOGL 420894.020'\n",
      "  warnings.warn(f\"Unrecognized parfile line '{p_line}'\", UserWarning)\n",
      "/Users/mregeard/anaconda3/envs/GammaPulsar/lib/python3.9/site-packages/pint/models/model_builder.py:139: UserWarning: Unrecognized parfile line 'LATHTEST 979428.232'\n",
      "  warnings.warn(f\"Unrecognized parfile line '{p_line}'\", UserWarning)\n",
      "/Users/mregeard/anaconda3/envs/GammaPulsar/lib/python3.9/site-packages/pint/models/model_builder.py:139: UserWarning: Unrecognized parfile line 'LATWN 2.786e-10'\n",
      "  warnings.warn(f\"Unrecognized parfile line '{p_line}'\", UserWarning)\n"
     ]
    }
   ],
   "source": [
    "maker = FermiPhaseMaker(observation=obs,\n",
    "                        ephemeris_file=ephemeris_file,\n",
    "                        targetcoord=target_coord,\n",
    "                        weightcolumn='CALC')"
   ]
  },
  {
   "cell_type": "markdown",
   "id": "3de4f550",
   "metadata": {},
   "source": [
    "Once the maker has been initialised, we just have to execute the `compute_phase` method of the maker to compute the phases of the pulsar."
   ]
  },
  {
   "cell_type": "code",
   "execution_count": 13,
   "id": "83924cab",
   "metadata": {},
   "outputs": [
    {
     "name": "stderr",
     "output_type": "stream",
     "text": [
      "\u001b[32m2023-06-08 18:16:31.348\u001b[0m | \u001b[1mINFO    \u001b[0m | \u001b[36mpint.observatory.satellite_obs\u001b[0m:\u001b[36mload_Fermi_FT2\u001b[0m:\u001b[36m45\u001b[0m - \u001b[1mOpened FT2 FITS file /Users/mregeard/Workspace/data/GammaPulsar-data/fermi/vela_2days/vela_2days_spacecraft.fits\u001b[0m\n",
      "\u001b[32m2023-06-08 18:16:31.349\u001b[0m | \u001b[1mINFO    \u001b[0m | \u001b[36mpint.observatory.satellite_obs\u001b[0m:\u001b[36mload_Fermi_FT2\u001b[0m:\u001b[36m49\u001b[0m - \u001b[1mFT2 TIMESYS TT\u001b[0m\n",
      "\u001b[32m2023-06-08 18:16:31.349\u001b[0m | \u001b[1mINFO    \u001b[0m | \u001b[36mpint.observatory.satellite_obs\u001b[0m:\u001b[36mload_Fermi_FT2\u001b[0m:\u001b[36m51\u001b[0m - \u001b[1mFT2 TIMEREF LOCAL\u001b[0m\n",
      "\u001b[32m2023-06-08 18:16:31.349\u001b[0m | \u001b[34m\u001b[1mDEBUG   \u001b[0m | \u001b[36mpint.fits_utils\u001b[0m:\u001b[36mread_fits_event_mjds\u001b[0m:\u001b[36m92\u001b[0m - \u001b[34m\u001b[1mTIMEZERO = 0.0\u001b[0m\n",
      "\u001b[32m2023-06-08 18:16:31.349\u001b[0m | \u001b[34m\u001b[1mDEBUG   \u001b[0m | \u001b[36mpint.fits_utils\u001b[0m:\u001b[36mread_fits_event_mjds\u001b[0m:\u001b[36m105\u001b[0m - \u001b[34m\u001b[1mMJDREF = 51910.00074287037\u001b[0m\n",
      "\u001b[32m2023-06-08 18:16:31.351\u001b[0m | \u001b[1mINFO    \u001b[0m | \u001b[36mpint.observatory.satellite_obs\u001b[0m:\u001b[36mload_Fermi_FT2\u001b[0m:\u001b[36m77\u001b[0m - \u001b[1mBuilding FT2 table covering MJDs 57687.00069194444 d to 57689.00086555556 d\u001b[0m\n",
      "\u001b[32m2023-06-08 18:16:31.362\u001b[0m | \u001b[1mINFO    \u001b[0m | \u001b[36mpint.fermi_toas\u001b[0m:\u001b[36mget_Fermi_TOAs\u001b[0m:\u001b[36m220\u001b[0m - \u001b[1mTIMESYS TT\u001b[0m\n",
      "\u001b[32m2023-06-08 18:16:31.363\u001b[0m | \u001b[1mINFO    \u001b[0m | \u001b[36mpint.fermi_toas\u001b[0m:\u001b[36mget_Fermi_TOAs\u001b[0m:\u001b[36m222\u001b[0m - \u001b[1mTIMEREF LOCAL\u001b[0m\n",
      "\u001b[32m2023-06-08 18:16:31.363\u001b[0m | \u001b[34m\u001b[1mDEBUG   \u001b[0m | \u001b[36mpint.fits_utils\u001b[0m:\u001b[36mread_fits_event_mjds_tuples\u001b[0m:\u001b[36m42\u001b[0m - \u001b[34m\u001b[1mTIMEZERO = 0.0\u001b[0m\n",
      "\u001b[32m2023-06-08 18:16:31.363\u001b[0m | \u001b[34m\u001b[1mDEBUG   \u001b[0m | \u001b[36mpint.fits_utils\u001b[0m:\u001b[36mread_fits_event_mjds_tuples\u001b[0m:\u001b[36m59\u001b[0m - \u001b[34m\u001b[1mMJDREF = 51910.00074287037\u001b[0m\n",
      "\u001b[32m2023-06-08 18:16:31.372\u001b[0m | \u001b[1mINFO    \u001b[0m | \u001b[36mpint.fermi_toas\u001b[0m:\u001b[36mget_Fermi_TOAs\u001b[0m:\u001b[36m287\u001b[0m - \u001b[1mBuilding spacecraft local TOAs, with MJDs in range 57687.05790283239 to 57688.92503252082\u001b[0m\n",
      "\u001b[32m2023-06-08 18:16:31.489\u001b[0m | \u001b[34m\u001b[1mDEBUG   \u001b[0m | \u001b[36mpint.toa\u001b[0m:\u001b[36m__init__\u001b[0m:\u001b[36m1340\u001b[0m - \u001b[34m\u001b[1mNo pulse number flags found in the TOAs\u001b[0m\n",
      "\u001b[32m2023-06-08 18:16:31.494\u001b[0m | \u001b[34m\u001b[1mDEBUG   \u001b[0m | \u001b[36mpint.toa\u001b[0m:\u001b[36mapply_clock_corrections\u001b[0m:\u001b[36m2182\u001b[0m - \u001b[34m\u001b[1mApplying clock corrections (include_gps = False, include_bipm = False)\u001b[0m\n",
      "\u001b[32m2023-06-08 18:16:32.339\u001b[0m | \u001b[34m\u001b[1mDEBUG   \u001b[0m | \u001b[36mpint.toa\u001b[0m:\u001b[36mcompute_TDBs\u001b[0m:\u001b[36m2233\u001b[0m - \u001b[34m\u001b[1mComputing TDB columns.\u001b[0m\n",
      "\u001b[32m2023-06-08 18:16:32.339\u001b[0m | \u001b[33m\u001b[1mWARNING \u001b[0m | \u001b[36mpint.toa\u001b[0m:\u001b[36mcompute_TDBs\u001b[0m:\u001b[36m2243\u001b[0m - \u001b[33m\u001b[1mNo ephemeris provided to TOAs object or compute_TDBs. Using DE421\u001b[0m\n",
      "\u001b[32m2023-06-08 18:16:32.340\u001b[0m | \u001b[34m\u001b[1mDEBUG   \u001b[0m | \u001b[36mpint.toa\u001b[0m:\u001b[36mcompute_TDBs\u001b[0m:\u001b[36m2254\u001b[0m - \u001b[34m\u001b[1mUsing EPHEM = DE421 for TDB calculation.\u001b[0m\n",
      "\u001b[32m2023-06-08 18:16:33.150\u001b[0m | \u001b[1mINFO    \u001b[0m | \u001b[36mpint.solar_system_ephemerides\u001b[0m:\u001b[36m_load_kernel_link\u001b[0m:\u001b[36m55\u001b[0m - \u001b[1mSet solar system ephemeris to de421 from download\u001b[0m\n",
      "\u001b[32m2023-06-08 18:16:33.231\u001b[0m | \u001b[34m\u001b[1mDEBUG   \u001b[0m | \u001b[36mpint.observatory.satellite_obs\u001b[0m:\u001b[36m_get_TDB_default\u001b[0m:\u001b[36m383\u001b[0m - \u001b[34m\u001b[1m\tTopocentric Correction:\t[1.75083618e-06 1.80131981e-06 1.83982091e-06 ... 2.01422056e-06\n",
      " 1.91080552e-06 1.23676958e-06] s\u001b[0m\n",
      "\u001b[32m2023-06-08 18:16:33.507\u001b[0m | \u001b[34m\u001b[1mDEBUG   \u001b[0m | \u001b[36mpint.toa\u001b[0m:\u001b[36mcompute_posvels\u001b[0m:\u001b[36m2332\u001b[0m - \u001b[34m\u001b[1mComputing PosVels of observatories and Earth, using DE421\u001b[0m\n",
      "\u001b[32m2023-06-08 18:16:34.243\u001b[0m | \u001b[1mINFO    \u001b[0m | \u001b[36mpint.solar_system_ephemerides\u001b[0m:\u001b[36m_load_kernel_link\u001b[0m:\u001b[36m55\u001b[0m - \u001b[1mSet solar system ephemeris to de421 from download\u001b[0m\n",
      "\u001b[32m2023-06-08 18:16:34.328\u001b[0m | \u001b[34m\u001b[1mDEBUG   \u001b[0m | \u001b[36mpint.toa\u001b[0m:\u001b[36mcompute_posvels\u001b[0m:\u001b[36m2385\u001b[0m - \u001b[34m\u001b[1mSSB obs pos [1.25488030e+08 7.44651425e+07 3.22497743e+07] km\u001b[0m\n",
      "\u001b[32m2023-06-08 18:16:34.942\u001b[0m | \u001b[1mINFO    \u001b[0m | \u001b[36mpint.solar_system_ephemerides\u001b[0m:\u001b[36m_load_kernel_link\u001b[0m:\u001b[36m55\u001b[0m - \u001b[1mSet solar system ephemeris to de421 from download\u001b[0m\n",
      "\u001b[32m2023-06-08 18:16:34.958\u001b[0m | \u001b[34m\u001b[1mDEBUG   \u001b[0m | \u001b[36mpint.toa\u001b[0m:\u001b[36mcompute_posvels\u001b[0m:\u001b[36m2399\u001b[0m - \u001b[34m\u001b[1mAdding columns ssb_obs_pos ssb_obs_vel obs_sun_pos\u001b[0m\n",
      "\u001b[32m2023-06-08 18:16:35.778\u001b[0m | \u001b[34m\u001b[1mDEBUG   \u001b[0m | \u001b[36mpint.toa\u001b[0m:\u001b[36m__init__\u001b[0m:\u001b[36m1340\u001b[0m - \u001b[34m\u001b[1mNo pulse number flags found in the TOAs\u001b[0m\n",
      "\u001b[32m2023-06-08 18:16:35.782\u001b[0m | \u001b[34m\u001b[1mDEBUG   \u001b[0m | \u001b[36mpint.toa\u001b[0m:\u001b[36mapply_clock_corrections\u001b[0m:\u001b[36m2182\u001b[0m - \u001b[34m\u001b[1mApplying clock corrections (include_gps = False, include_bipm = False)\u001b[0m\n",
      "\u001b[32m2023-06-08 18:16:36.654\u001b[0m | \u001b[34m\u001b[1mDEBUG   \u001b[0m | \u001b[36mpint.toa\u001b[0m:\u001b[36mcompute_TDBs\u001b[0m:\u001b[36m2233\u001b[0m - \u001b[34m\u001b[1mComputing TDB columns.\u001b[0m\n",
      "\u001b[32m2023-06-08 18:16:36.655\u001b[0m | \u001b[34m\u001b[1mDEBUG   \u001b[0m | \u001b[36mpint.toa\u001b[0m:\u001b[36mcompute_TDBs\u001b[0m:\u001b[36m2254\u001b[0m - \u001b[34m\u001b[1mUsing EPHEM = DE421 for TDB calculation.\u001b[0m\n",
      "\u001b[32m2023-06-08 18:16:37.343\u001b[0m | \u001b[1mINFO    \u001b[0m | \u001b[36mpint.solar_system_ephemerides\u001b[0m:\u001b[36m_load_kernel_link\u001b[0m:\u001b[36m55\u001b[0m - \u001b[1mSet solar system ephemeris to de421 from download\u001b[0m\n",
      "\u001b[32m2023-06-08 18:16:37.427\u001b[0m | \u001b[34m\u001b[1mDEBUG   \u001b[0m | \u001b[36mpint.observatory.satellite_obs\u001b[0m:\u001b[36m_get_TDB_default\u001b[0m:\u001b[36m383\u001b[0m - \u001b[34m\u001b[1m\tTopocentric Correction:\t[1.75083618e-06 1.80131981e-06 1.83982091e-06 ... 2.01422056e-06\n",
      " 1.91080552e-06 1.23676958e-06] s\u001b[0m\n",
      "\u001b[32m2023-06-08 18:16:37.658\u001b[0m | \u001b[34m\u001b[1mDEBUG   \u001b[0m | \u001b[36mpint.toa\u001b[0m:\u001b[36mcompute_posvels\u001b[0m:\u001b[36m2332\u001b[0m - \u001b[34m\u001b[1mComputing PosVels of observatories and Earth, using DE421\u001b[0m\n",
      "\u001b[32m2023-06-08 18:16:38.390\u001b[0m | \u001b[1mINFO    \u001b[0m | \u001b[36mpint.solar_system_ephemerides\u001b[0m:\u001b[36m_load_kernel_link\u001b[0m:\u001b[36m55\u001b[0m - \u001b[1mSet solar system ephemeris to de421 from download\u001b[0m\n",
      "\u001b[32m2023-06-08 18:16:38.472\u001b[0m | \u001b[34m\u001b[1mDEBUG   \u001b[0m | \u001b[36mpint.toa\u001b[0m:\u001b[36mcompute_posvels\u001b[0m:\u001b[36m2385\u001b[0m - \u001b[34m\u001b[1mSSB obs pos [1.25488030e+08 7.44651425e+07 3.22497743e+07] km\u001b[0m\n",
      "\u001b[32m2023-06-08 18:16:39.086\u001b[0m | \u001b[1mINFO    \u001b[0m | \u001b[36mpint.solar_system_ephemerides\u001b[0m:\u001b[36m_load_kernel_link\u001b[0m:\u001b[36m55\u001b[0m - \u001b[1mSet solar system ephemeris to de421 from download\u001b[0m\n",
      "\u001b[32m2023-06-08 18:16:39.103\u001b[0m | \u001b[34m\u001b[1mDEBUG   \u001b[0m | \u001b[36mpint.toa\u001b[0m:\u001b[36mcompute_posvels\u001b[0m:\u001b[36m2399\u001b[0m - \u001b[34m\u001b[1mAdding columns ssb_obs_pos ssb_obs_vel obs_sun_pos\u001b[0m\n",
      "\u001b[32m2023-06-08 18:16:39.438\u001b[0m | \u001b[34m\u001b[1mDEBUG   \u001b[0m | \u001b[36mpint.models.glitch\u001b[0m:\u001b[36mglitch_phase\u001b[0m:\u001b[36m212\u001b[0m - \u001b[34m\u001b[1mGlitch phase for glitch 1: 0.004560453727298499 \u001b[0m\n",
      "\u001b[32m2023-06-08 18:16:39.446\u001b[0m | \u001b[34m\u001b[1mDEBUG   \u001b[0m | \u001b[36mpint.models.glitch\u001b[0m:\u001b[36mglitch_phase\u001b[0m:\u001b[36m212\u001b[0m - \u001b[34m\u001b[1mGlitch phase for glitch 2: 0.8323457251981262 \u001b[0m\n",
      "\u001b[32m2023-06-08 18:16:39.450\u001b[0m | \u001b[34m\u001b[1mDEBUG   \u001b[0m | \u001b[36mpint.models.glitch\u001b[0m:\u001b[36mglitch_phase\u001b[0m:\u001b[36m212\u001b[0m - \u001b[34m\u001b[1mGlitch phase for glitch 3: 0.003556857729488026 \u001b[0m\n",
      "\u001b[32m2023-06-08 18:16:39.452\u001b[0m | \u001b[34m\u001b[1mDEBUG   \u001b[0m | \u001b[36mpint.models.glitch\u001b[0m:\u001b[36mglitch_phase\u001b[0m:\u001b[36m212\u001b[0m - \u001b[34m\u001b[1mGlitch phase for glitch 4: -0.0006597314072849418 \u001b[0m\n",
      "\u001b[32m2023-06-08 18:16:39.454\u001b[0m | \u001b[34m\u001b[1mDEBUG   \u001b[0m | \u001b[36mpint.models.glitch\u001b[0m:\u001b[36mglitch_phase\u001b[0m:\u001b[36m212\u001b[0m - \u001b[34m\u001b[1mGlitch phase for glitch 5: 0.03 \u001b[0m\n",
      "\u001b[32m2023-06-08 18:16:39.458\u001b[0m | \u001b[34m\u001b[1mDEBUG   \u001b[0m | \u001b[36mpint.models.absolute_phase\u001b[0m:\u001b[36mget_TZR_toa\u001b[0m:\u001b[36m97\u001b[0m - \u001b[34m\u001b[1mCreating and dealing with the single TZR_toa for absolute phase\u001b[0m\n",
      "\u001b[32m2023-06-08 18:16:39.460\u001b[0m | \u001b[34m\u001b[1mDEBUG   \u001b[0m | \u001b[36mpint.toa\u001b[0m:\u001b[36m__init__\u001b[0m:\u001b[36m1340\u001b[0m - \u001b[34m\u001b[1mNo pulse number flags found in the TOAs\u001b[0m\n",
      "\u001b[32m2023-06-08 18:16:39.460\u001b[0m | \u001b[34m\u001b[1mDEBUG   \u001b[0m | \u001b[36mpint.toa\u001b[0m:\u001b[36mapply_clock_corrections\u001b[0m:\u001b[36m2182\u001b[0m - \u001b[34m\u001b[1mApplying clock corrections (include_gps = False, include_bipm = False)\u001b[0m\n",
      "\u001b[32m2023-06-08 18:16:39.467\u001b[0m | \u001b[34m\u001b[1mDEBUG   \u001b[0m | \u001b[36mpint.toa\u001b[0m:\u001b[36mcompute_TDBs\u001b[0m:\u001b[36m2233\u001b[0m - \u001b[34m\u001b[1mComputing TDB columns.\u001b[0m\n",
      "\u001b[32m2023-06-08 18:16:39.467\u001b[0m | \u001b[34m\u001b[1mDEBUG   \u001b[0m | \u001b[36mpint.toa\u001b[0m:\u001b[36mcompute_TDBs\u001b[0m:\u001b[36m2254\u001b[0m - \u001b[34m\u001b[1mUsing EPHEM = DE421 for TDB calculation.\u001b[0m\n",
      "\u001b[32m2023-06-08 18:16:39.469\u001b[0m | \u001b[34m\u001b[1mDEBUG   \u001b[0m | \u001b[36mpint.toa\u001b[0m:\u001b[36mcompute_posvels\u001b[0m:\u001b[36m2332\u001b[0m - \u001b[34m\u001b[1mComputing PosVels of observatories and Earth, using DE421\u001b[0m\n"
     ]
    },
    {
     "name": "stderr",
     "output_type": "stream",
     "text": [
      "\u001b[32m2023-06-08 18:16:40.081\u001b[0m | \u001b[1mINFO    \u001b[0m | \u001b[36mpint.solar_system_ephemerides\u001b[0m:\u001b[36m_load_kernel_link\u001b[0m:\u001b[36m55\u001b[0m - \u001b[1mSet solar system ephemeris to de421 from download\u001b[0m\n",
      "\u001b[32m2023-06-08 18:16:40.095\u001b[0m | \u001b[34m\u001b[1mDEBUG   \u001b[0m | \u001b[36mpint.toa\u001b[0m:\u001b[36mcompute_posvels\u001b[0m:\u001b[36m2385\u001b[0m - \u001b[34m\u001b[1mSSB obs pos [6.28254758e+07 1.22293098e+08 5.30019528e+07] km\u001b[0m\n",
      "\u001b[32m2023-06-08 18:16:40.709\u001b[0m | \u001b[1mINFO    \u001b[0m | \u001b[36mpint.solar_system_ephemerides\u001b[0m:\u001b[36m_load_kernel_link\u001b[0m:\u001b[36m55\u001b[0m - \u001b[1mSet solar system ephemeris to de421 from download\u001b[0m\n",
      "\u001b[32m2023-06-08 18:16:40.720\u001b[0m | \u001b[34m\u001b[1mDEBUG   \u001b[0m | \u001b[36mpint.toa\u001b[0m:\u001b[36mcompute_posvels\u001b[0m:\u001b[36m2399\u001b[0m - \u001b[34m\u001b[1mAdding columns ssb_obs_pos ssb_obs_vel obs_sun_pos\u001b[0m\n",
      "\u001b[32m2023-06-08 18:16:40.724\u001b[0m | \u001b[34m\u001b[1mDEBUG   \u001b[0m | \u001b[36mpint.models.absolute_phase\u001b[0m:\u001b[36mget_TZR_toa\u001b[0m:\u001b[36m119\u001b[0m - \u001b[34m\u001b[1mDone with TZR_toa\u001b[0m\n",
      "\u001b[32m2023-06-08 18:16:40.784\u001b[0m | \u001b[34m\u001b[1mDEBUG   \u001b[0m | \u001b[36mpint.models.glitch\u001b[0m:\u001b[36mglitch_phase\u001b[0m:\u001b[36m212\u001b[0m - \u001b[34m\u001b[1mGlitch phase for glitch 1: 0.004560453727298499 \u001b[0m\n",
      "\u001b[32m2023-06-08 18:16:40.785\u001b[0m | \u001b[34m\u001b[1mDEBUG   \u001b[0m | \u001b[36mpint.models.glitch\u001b[0m:\u001b[36mglitch_phase\u001b[0m:\u001b[36m212\u001b[0m - \u001b[34m\u001b[1mGlitch phase for glitch 2: 0.8323457251981262 \u001b[0m\n",
      "\u001b[32m2023-06-08 18:16:40.786\u001b[0m | \u001b[34m\u001b[1mDEBUG   \u001b[0m | \u001b[36mpint.models.glitch\u001b[0m:\u001b[36mglitch_phase\u001b[0m:\u001b[36m212\u001b[0m - \u001b[34m\u001b[1mGlitch phase for glitch 3: 0.003556857729488026 \u001b[0m\n",
      "\u001b[32m2023-06-08 18:16:40.787\u001b[0m | \u001b[34m\u001b[1mDEBUG   \u001b[0m | \u001b[36mpint.models.glitch\u001b[0m:\u001b[36mglitch_phase\u001b[0m:\u001b[36m212\u001b[0m - \u001b[34m\u001b[1mGlitch phase for glitch 4: -0.0006597314072849418 \u001b[0m\n",
      "\u001b[32m2023-06-08 18:16:40.788\u001b[0m | \u001b[34m\u001b[1mDEBUG   \u001b[0m | \u001b[36mpint.models.glitch\u001b[0m:\u001b[36mglitch_phase\u001b[0m:\u001b[36m212\u001b[0m - \u001b[34m\u001b[1mGlitch phase for glitch 5: 0.03 \u001b[0m\n"
     ]
    }
   ],
   "source": [
    "maker.compute_phase()"
   ]
  },
  {
   "cell_type": "markdown",
   "id": "02c05c9e",
   "metadata": {},
   "source": [
    "The phases array if put in the `phase` attribute of the maker. "
   ]
  },
  {
   "cell_type": "code",
   "execution_count": 14,
   "id": "70cf2a5c",
   "metadata": {},
   "outputs": [
    {
     "data": {
      "text/latex": [
       "$[0.84312602,~0.70044942,~0.32630106,~\\dots,~0.25195681,~0.21661656,~0.49340666] \\; \\mathrm{}$"
      ],
      "text/plain": [
       "<Quantity [0.84312602, 0.70044942, 0.32630106, ..., 0.25195681, 0.21661656,\n",
       "           0.49340666]>"
      ]
     },
     "execution_count": 14,
     "metadata": {},
     "output_type": "execute_result"
    }
   ],
   "source": [
    "maker.phases"
   ]
  },
  {
   "cell_type": "markdown",
   "id": "76938b5f",
   "metadata": {},
   "source": [
    "## Write the phases and meta data to disk"
   ]
  },
  {
   "cell_type": "markdown",
   "id": "7df8f35b",
   "metadata": {},
   "source": [
    "Now that the pulsar phases have been computed, we want to write them to disk. \n",
    "\n",
    "To do this we can use the `write_column_name_and_meta` method the `FermiPhaseMaker`. This method has 3 keyword arguments : `filename=None`, `column_name='PULSE_PHASE'` and `overwrite=True`. If `filename` is `None`, the pulsar phases will we written in original file of the observation. `column_name` is the name of the column where the pulsar phases are going to be written, and `overwrite` is used to check if a column named as `column_name` can be overwritten.\n",
    "\n",
    "At the same time as the column is written to file, meta data of the phase computation are also written to the header of the fits file. These meta data are written at the entry `'PHSE_LOG'`of the events header.\n",
    "\n",
    "Let's first write the phases to the original file. "
   ]
  },
  {
   "cell_type": "code",
   "execution_count": 15,
   "id": "90cc607a",
   "metadata": {},
   "outputs": [
    {
     "name": "stdout",
     "output_type": "stream",
     "text": [
      "TZRFREQ not found in ephemeris file /Users/mregeard/Workspace/data/GammaPulsar-data/ephemeris/vela/J0835-4510_tnfit_220401.par !\n"
     ]
    }
   ],
   "source": [
    "maker.write_column_and_meta()"
   ]
  },
  {
   "cell_type": "markdown",
   "id": "ac41dee1",
   "metadata": {},
   "source": [
    "The output above tells us that the entry 'TZRFREQ' is not present in the ephemeris file that we have used. This is not an issue here since this entry is not always there depending on the instrument that was used to produce the ephemeris file. The meta data has been written anyway. "
   ]
  },
  {
   "cell_type": "code",
   "execution_count": 16,
   "id": "db60b00b",
   "metadata": {
    "scrolled": true
   },
   "outputs": [
    {
     "data": {
      "text/html": [
       "<div><i>Table length=4899</i>\n",
       "<table id=\"table6036777184\" class=\"table-striped table-bordered table-condensed\">\n",
       "<thead><tr><th>ENERGY</th><th>RA</th><th>DEC</th><th>L</th><th>B</th><th>THETA</th><th>PHI</th><th>ZENITH_ANGLE</th><th>EARTH_AZIMUTH_ANGLE</th><th>TIME</th><th>EVENT_ID</th><th>RUN_ID</th><th>RECON_VERSION</th><th>CALIB_VERSION</th><th>EVENT_CLASS</th><th>EVENT_TYPE</th><th>CONVERSION_TYPE</th><th>LIVETIME</th><th>DIFRSP0</th><th>DIFRSP1</th><th>DIFRSP2</th><th>DIFRSP3</th><th>DIFRSP4</th><th>PULSE_PHASE</th></tr></thead>\n",
       "<thead><tr><th>MeV</th><th>deg</th><th>deg</th><th>deg</th><th>deg</th><th>deg</th><th>deg</th><th>deg</th><th>deg</th><th>s</th><th></th><th></th><th></th><th></th><th></th><th></th><th></th><th>s</th><th></th><th></th><th></th><th></th><th></th><th></th></tr></thead>\n",
       "<thead><tr><th>float32</th><th>float32</th><th>float32</th><th>float32</th><th>float32</th><th>float32</th><th>float32</th><th>float32</th><th>float32</th><th>float64</th><th>int32</th><th>int32</th><th>int16</th><th>int16[3]</th><th>bool[32]</th><th>bool[32]</th><th>int16</th><th>float64</th><th>float32</th><th>float32</th><th>float32</th><th>float32</th><th>float32</th><th>float64</th></tr></thead>\n",
       "<tr><td>52.199474</td><td>145.1223</td><td>-54.629803</td><td>277.55798</td><td>-1.4525373</td><td>9.108761</td><td>70.05413</td><td>44.111633</td><td>152.51736</td><td>499137738.6207186</td><td>1589304</td><td>499137307</td><td>0</td><td>0 .. 0</td><td>False .. True</td><td>False .. True</td><td>0</td><td>75.78507024049759</td><td>0.0</td><td>0.0</td><td>0.0</td><td>0.0</td><td>0.0</td><td>0.8431260226380742</td></tr>\n",
       "<tr><td>284.0746</td><td>143.75316</td><td>-56.40009</td><td>278.16013</td><td>-3.2889855</td><td>6.2098026</td><td>90.34294</td><td>44.42939</td><td>157.37547</td><td>499137789.82818514</td><td>1731249</td><td>499137307</td><td>0</td><td>0 .. 0</td><td>False .. True</td><td>False .. True</td><td>0</td><td>126.99253678321838</td><td>0.0</td><td>0.0</td><td>0.0</td><td>0.0</td><td>0.0</td><td>0.700449422177881</td></tr>\n",
       "<tr><td>46.53251</td><td>141.13872</td><td>-55.284657</td><td>276.32416</td><td>-3.4871144</td><td>7.5151353</td><td>112.30064</td><td>42.546646</td><td>160.13455</td><td>499137833.41689736</td><td>1846818</td><td>499137307</td><td>0</td><td>0 .. 0</td><td>False .. True</td><td>False .. True</td><td>0</td><td>170.58124899864197</td><td>0.0</td><td>0.0</td><td>0.0</td><td>0.0</td><td>0.0</td><td>0.3263010641267725</td></tr>\n",
       "<tr><td>513.7142</td><td>136.21635</td><td>-55.439697</td><td>274.50073</td><td>-5.619</td><td>32.575047</td><td>173.38452</td><td>57.94371</td><td>193.46944</td><td>499138503.8478784</td><td>3143157</td><td>499137307</td><td>0</td><td>0 .. 0</td><td>False .. True</td><td>False .. True</td><td>0</td><td>46.99963027238846</td><td>0.0</td><td>0.0</td><td>0.0</td><td>0.0</td><td>0.0</td><td>0.3597832684371744</td></tr>\n",
       "<tr><td>282.0987</td><td>139.33492</td><td>-56.89352</td><td>276.75735</td><td>-5.334833</td><td>10.782901</td><td>163.72531</td><td>44.94696</td><td>170.33803</td><td>499149417.65043396</td><td>372974</td><td>499149294</td><td>0</td><td>0 .. 0</td><td>False .. True</td><td>False .. True</td><td>0</td><td>120.00128203630447</td><td>0.0</td><td>0.0</td><td>0.0</td><td>0.0</td><td>0.0</td><td>0.8877265175614312</td></tr>\n",
       "<tr><td>396.63797</td><td>145.57863</td><td>-55.54905</td><td>278.35886</td><td>-1.9744414</td><td>8.541765</td><td>157.79271</td><td>45.28164</td><td>166.61441</td><td>499149449.159501</td><td>449548</td><td>499149294</td><td>0</td><td>0 .. 0</td><td>False .. True</td><td>False .. False</td><td>1</td><td>151.5103490948677</td><td>0.0</td><td>0.0</td><td>0.0</td><td>0.0</td><td>0.0</td><td>0.37723979413497455</td></tr>\n",
       "<tr><td>61.99164</td><td>141.82166</td><td>-56.967182</td><td>277.7733</td><td>-4.4282804</td><td>15.751049</td><td>176.12804</td><td>48.336662</td><td>176.27562</td><td>499149586.16385925</td><td>757033</td><td>499149294</td><td>0</td><td>0 .. 0</td><td>False .. True</td><td>False .. True</td><td>0</td><td>30.666968822479248</td><td>0.0</td><td>0.0</td><td>0.0</td><td>0.0</td><td>0.0</td><td>0.031491794002498005</td></tr>\n",
       "<tr><td>1194.454</td><td>142.68428</td><td>-54.689682</td><td>276.55283</td><td>-2.443972</td><td>19.719585</td><td>172.35884</td><td>49.000313</td><td>180.64934</td><td>499149704.38045764</td><td>998386</td><td>499149294</td><td>0</td><td>0 .. 0</td><td>False .. True</td><td>False .. True</td><td>0</td><td>148.88356721401215</td><td>0.0</td><td>0.0</td><td>0.0</td><td>0.0</td><td>0.0</td><td>0.5051692846469618</td></tr>\n",
       "<tr><td>256.74582</td><td>145.10135</td><td>-54.36117</td><td>277.37177</td><td>-1.2584938</td><td>25.707987</td><td>173.63463</td><td>54.13648</td><td>186.39784</td><td>499149888.3786183</td><td>1347166</td><td>499149294</td><td>0</td><td>0 .. 0</td><td>False .. True</td><td>False .. True</td><td>0</td><td>53.977064311504364</td><td>0.0</td><td>0.0</td><td>0.0</td><td>0.0</td><td>0.0</td><td>0.8622278331308556</td></tr>\n",
       "<tr><td>388.96347</td><td>141.35648</td><td>-55.485233</td><td>276.55325</td><td>-3.544119</td><td>35.3628</td><td>172.6196</td><td>62.70067</td><td>194.4824</td><td>499150071.6970757</td><td>1680007</td><td>499149294</td><td>0</td><td>0 .. 0</td><td>False .. True</td><td>False .. False</td><td>1</td><td>237.29552173614502</td><td>0.0</td><td>0.0</td><td>0.0</td><td>0.0</td><td>0.0</td><td>0.608790271040499</td></tr>\n",
       "<tr><td>1254.1447</td><td>141.1388</td><td>-55.975483</td><td>276.80887</td><td>-3.9803495</td><td>35.780018</td><td>174.64954</td><td>63.72382</td><td>194.39552</td><td>499161504.18185484</td><td>696436</td><td>499161207</td><td>0</td><td>0 .. 0</td><td>False .. True</td><td>False .. False</td><td>1</td><td>293.53092217445374</td><td>0.0</td><td>0.0</td><td>0.0</td><td>0.0</td><td>0.0</td><td>0.5692694365974444</td></tr>\n",
       "<tr><td>424.73218</td><td>146.89941</td><td>-54.22834</td><td>278.0835</td><td>-0.47597808</td><td>30.30634</td><td>43.98158</td><td>59.663242</td><td>139.7712</td><td>499171464.6009154</td><td>8264995</td><td>499167157</td><td>0</td><td>0 .. 0</td><td>False .. True</td><td>False .. True</td><td>0</td><td>16.963837444782257</td><td>0.0</td><td>0.0</td><td>0.0</td><td>0.0</td><td>0.0</td><td>0.6106001073494176</td></tr>\n",
       "<tr><td>101.21746</td><td>141.20685</td><td>-56.160233</td><td>276.96573</td><td>-4.085686</td><td>17.09148</td><td>50.990234</td><td>49.03428</td><td>145.72116</td><td>499171713.78986734</td><td>8789410</td><td>499167157</td><td>0</td><td>0 .. 0</td><td>False .. True</td><td>False .. True</td><td>0</td><td>0.0051801204681396484</td><td>0.0</td><td>0.0</td><td>0.0</td><td>0.0</td><td>0.0</td><td>0.3129879076030434</td></tr>\n",
       "<tr><td>663.33905</td><td>142.83493</td><td>-57.115643</td><td>278.27652</td><td>-4.156084</td><td>10.492716</td><td>53.93294</td><td>47.18674</td><td>150.87419</td><td>499171870.3144862</td><td>9109143</td><td>499167157</td><td>0</td><td>0 .. 0</td><td>False .. True</td><td>False .. False</td><td>1</td><td>156.5297989845276</td><td>0.0</td><td>0.0</td><td>0.0</td><td>0.0</td><td>0.0</td><td>0.36228885280969136</td></tr>\n",
       "<tr><td>54.665886</td><td>145.83064</td><td>-55.336716</td><td>278.3285</td><td>-1.7202737</td><td>42.856243</td><td>164.2693</td><td>72.46052</td><td>199.04623</td><td>499173180.82684153</td><td>536716</td><td>499172958</td><td>0</td><td>0 .. 0</td><td>False .. True</td><td>False .. True</td><td>0</td><td>219.1726993918419</td><td>0.0</td><td>0.0</td><td>0.0</td><td>0.0</td><td>0.0</td><td>0.897850582485491</td></tr>\n",
       "<tr><td>1277.2559</td><td>144.27737</td><td>-56.002308</td><td>278.1093</td><td>-2.798386</td><td>52.250675</td><td>54.55338</td><td>84.15366</td><td>149.0412</td><td>499182251.2573963</td><td>7745631</td><td>499178260</td><td>0</td><td>0 .. 0</td><td>False .. True</td><td>False .. False</td><td>1</td><td>53.68788254261017</td><td>0.0</td><td>0.0</td><td>0.0</td><td>0.0</td><td>0.0</td><td>0.5852648849103619</td></tr>\n",
       "<tr><td>104.92326</td><td>142.57379</td><td>-55.514767</td><td>277.07242</td><td>-3.0884757</td><td>49.36848</td><td>54.367332</td><td>79.81721</td><td>146.51302</td><td>499182335.87772185</td><td>8010877</td><td>499178260</td><td>0</td><td>0 .. 0</td><td>False .. True</td><td>False .. False</td><td>1</td><td>14.680038452148438</td><td>0.0</td><td>0.0</td><td>0.0</td><td>0.0</td><td>0.0</td><td>0.25104166458677435</td></tr>\n",
       "<tr><td>72.64915</td><td>143.32838</td><td>-56.70349</td><td>278.19284</td><td>-3.6708279</td><td>29.136976</td><td>45.740593</td><td>59.639034</td><td>142.57625</td><td>499182835.25923556</td><td>9583484</td><td>499178260</td><td>0</td><td>0 .. 0</td><td>False .. True</td><td>False .. True</td><td>0</td><td>103.97645872831345</td><td>0.0</td><td>0.0</td><td>0.0</td><td>0.0</td><td>0.0</td><td>0.9228181053809104</td></tr>\n",
       "<tr><td>320.29343</td><td>141.89552</td><td>-55.3469</td><td>276.67725</td><td>-3.231985</td><td>6.7213807</td><td>89.30022</td><td>44.21824</td><td>156.10065</td><td>499183461.77064973</td><td>11082807</td><td>499178260</td><td>0</td><td>0 .. 0</td><td>False .. True</td><td>False .. False</td><td>1</td><td>118.07559901475906</td><td>0.0</td><td>0.0</td><td>0.0</td><td>0.0</td><td>0.0</td><td>0.7493030674840534</td></tr>\n",
       "<tr><td>...</td><td>...</td><td>...</td><td>...</td><td>...</td><td>...</td><td>...</td><td>...</td><td>...</td><td>...</td><td>...</td><td>...</td><td>...</td><td>...</td><td>...</td><td>...</td><td>...</td><td>...</td><td>...</td><td>...</td><td>...</td><td>...</td><td>...</td><td>...</td></tr>\n",
       "<tr><td>225.90584</td><td>138.74373</td><td>-36.900265</td><td>262.03784</td><td>8.243806</td><td>25.937096</td><td>77.30843</td><td>37.85024</td><td>127.68227</td><td>499297571.33462805</td><td>4304484</td><td>499296422</td><td>0</td><td>0 .. 0</td><td>False .. True</td><td>False .. False</td><td>1</td><td>169.34670650959015</td><td>0.0</td><td>0.0</td><td>0.0</td><td>0.0</td><td>0.0</td><td>0.3742063874483244</td></tr>\n",
       "<tr><td>154.17245</td><td>137.89825</td><td>-37.144596</td><td>261.75397</td><td>7.5832834</td><td>24.701504</td><td>80.90357</td><td>36.251877</td><td>130.1044</td><td>499297603.00881004</td><td>4384717</td><td>499296422</td><td>0</td><td>0 .. 0</td><td>False .. True</td><td>False .. True</td><td>0</td><td>201.02088850736618</td><td>0.0</td><td>0.0</td><td>0.0</td><td>0.0</td><td>0.0</td><td>0.714036270984695</td></tr>\n",
       "<tr><td>117.74741</td><td>126.71643</td><td>-38.739975</td><td>257.42365</td><td>-0.2624032</td><td>22.415382</td><td>116.82771</td><td>27.750141</td><td>154.67412</td><td>499297743.4172173</td><td>4707932</td><td>499296422</td><td>0</td><td>0 .. 0</td><td>False .. True</td><td>False .. False</td><td>1</td><td>115.80997282266617</td><td>0.0</td><td>0.0</td><td>0.0</td><td>0.0</td><td>0.0</td><td>0.46314734295937493</td></tr>\n",
       "<tr><td>135.7589</td><td>131.52803</td><td>-31.976934</td><td>254.36333</td><td>6.9325857</td><td>27.351147</td><td>103.38582</td><td>24.990713</td><td>139.10973</td><td>499297753.019059</td><td>4728315</td><td>499296422</td><td>0</td><td>0 .. 0</td><td>False .. True</td><td>False .. True</td><td>0</td><td>125.4118145108223</td><td>0.0</td><td>0.0</td><td>0.0</td><td>0.0</td><td>0.0</td><td>0.8787831204871939</td></tr>\n",
       "<tr><td>293.7213</td><td>127.04734</td><td>-39.565395</td><td>258.24408</td><td>-0.5345087</td><td>21.54645</td><td>121.82512</td><td>28.545034</td><td>159.39885</td><td>499297785.5102985</td><td>4795377</td><td>499296422</td><td>0</td><td>0 .. 0</td><td>False .. True</td><td>False .. False</td><td>1</td><td>157.90305399894714</td><td>0.0</td><td>0.0</td><td>0.0</td><td>0.0</td><td>0.0</td><td>0.3575367402146453</td></tr>\n",
       "<tr><td>182.6508</td><td>125.33242</td><td>-39.336517</td><td>257.2939</td><td>-1.4849494</td><td>22.491745</td><td>126.15097</td><td>27.860987</td><td>163.332</td><td>499297800.6258639</td><td>4826175</td><td>499296422</td><td>0</td><td>0 .. 0</td><td>False .. True</td><td>False .. True</td><td>0</td><td>173.01861941814423</td><td>0.0</td><td>0.0</td><td>0.0</td><td>0.0</td><td>0.0</td><td>0.45492870744539704</td></tr>\n",
       "<tr><td>1493.3834</td><td>135.46152</td><td>-37.46499</td><td>260.6912</td><td>5.9263616</td><td>20.592358</td><td>104.9054</td><td>30.368069</td><td>147.77144</td><td>499297804.85365057</td><td>4834799</td><td>499296422</td><td>0</td><td>0 .. 0</td><td>False .. True</td><td>False .. False</td><td>1</td><td>177.24640607833862</td><td>0.0</td><td>0.0</td><td>0.0</td><td>0.0</td><td>0.0</td><td>0.7510448088863968</td></tr>\n",
       "<tr><td>211.68347</td><td>134.28159</td><td>-32.180904</td><td>256.0042</td><td>8.618341</td><td>25.74384</td><td>104.510826</td><td>25.579702</td><td>143.48021</td><td>499297821.7351265</td><td>4868613</td><td>499296422</td><td>0</td><td>0 .. 0</td><td>False .. True</td><td>False .. True</td><td>0</td><td>194.12788200378418</td><td>0.0</td><td>0.0</td><td>0.0</td><td>0.0</td><td>0.0</td><td>0.6035384591210036</td></tr>\n",
       "<tr><td>372.0462</td><td>140.17244</td><td>-36.998745</td><td>262.90802</td><td>9.0008545</td><td>19.335598</td><td>99.489365</td><td>32.008038</td><td>145.97359</td><td>499297851.5046814</td><td>4926616</td><td>499296422</td><td>0</td><td>0 .. 0</td><td>False .. True</td><td>False .. False</td><td>1</td><td>223.89743691682816</td><td>0.0</td><td>0.0</td><td>0.0</td><td>0.0</td><td>0.0</td><td>0.63435313116785</td></tr>\n",
       "<tr><td>515.14417</td><td>140.9862</td><td>-37.33605</td><td>263.6121</td><td>9.2267</td><td>18.18502</td><td>107.0379</td><td>32.074417</td><td>151.80983</td><td>499297923.40850437</td><td>5061595</td><td>499296422</td><td>0</td><td>0 .. 0</td><td>False .. True</td><td>False .. False</td><td>1</td><td>37.14664328098297</td><td>0.0</td><td>0.0</td><td>0.0</td><td>0.0</td><td>0.0</td><td>0.018597558687016312</td></tr>\n",
       "<tr><td>52.59737</td><td>134.16098</td><td>-39.470757</td><td>261.55032</td><td>3.846217</td><td>24.038548</td><td>149.32672</td><td>36.17929</td><td>183.47221</td><td>499298170.5803134</td><td>5483155</td><td>499296422</td><td>0</td><td>0 .. 0</td><td>False .. True</td><td>False .. False</td><td>1</td><td>3.987648665904999</td><td>0.0</td><td>0.0</td><td>0.0</td><td>0.0</td><td>0.0</td><td>0.10669177018270776</td></tr>\n",
       "<tr><td>188.62376</td><td>129.06554</td><td>-39.585476</td><td>259.18253</td><td>0.70627356</td><td>29.816683</td><td>157.47586</td><td>39.674656</td><td>194.36311</td><td>499298242.8786465</td><td>5600655</td><td>499296422</td><td>0</td><td>0 .. 0</td><td>False .. True</td><td>False .. False</td><td>1</td><td>76.28598177433014</td><td>0.0</td><td>0.0</td><td>0.0</td><td>0.0</td><td>0.0</td><td>0.8987065610412801</td></tr>\n",
       "<tr><td>1066.3567</td><td>124.480255</td><td>-39.712997</td><td>257.2335</td><td>-2.2400258</td><td>35.183083</td><td>162.53983</td><td>43.91489</td><td>202.19933</td><td>499298304.08791643</td><td>5700524</td><td>499296422</td><td>0</td><td>0 .. 0</td><td>False .. True</td><td>False .. False</td><td>1</td><td>137.49525171518326</td><td>0.0</td><td>0.0</td><td>0.0</td><td>0.0</td><td>0.0</td><td>0.6379178335610135</td></tr>\n",
       "<tr><td>3166.0886</td><td>129.6384</td><td>-38.77604</td><td>258.80597</td><td>1.5492604</td><td>35.316467</td><td>161.34132</td><td>45.644165</td><td>202.15492</td><td>499298400.4768437</td><td>5858273</td><td>499296422</td><td>0</td><td>0 .. 0</td><td>False .. True</td><td>False .. True</td><td>0</td><td>233.88417899608612</td><td>0.0</td><td>0.0</td><td>0.0</td><td>0.0</td><td>0.0</td><td>0.9252612041220637</td></tr>\n",
       "<tr><td>437.8083</td><td>142.02579</td><td>-37.064106</td><td>264.0133</td><td>10.003334</td><td>27.846178</td><td>153.50656</td><td>41.90988</td><td>191.79123</td><td>499298435.61583287</td><td>5916439</td><td>499296422</td><td>0</td><td>0 .. 0</td><td>False .. True</td><td>False .. True</td><td>0</td><td>6.057884633541107</td><td>0.0</td><td>0.0</td><td>0.0</td><td>0.0</td><td>0.0</td><td>0.018994916203239353</td></tr>\n",
       "<tr><td>297.1876</td><td>136.24277</td><td>-37.380833</td><td>261.03983</td><td>6.447795</td><td>33.118736</td><td>157.7121</td><td>44.877956</td><td>199.41534</td><td>499298462.52141786</td><td>5961495</td><td>499296422</td><td>0</td><td>0 .. 0</td><td>False .. True</td><td>False .. True</td><td>0</td><td>32.96346962451935</td><td>0.0</td><td>0.0</td><td>0.0</td><td>0.0</td><td>0.0</td><td>0.006918495920165331</td></tr>\n",
       "<tr><td>9615.743</td><td>134.87793</td><td>-32.933273</td><td>256.91373</td><td>8.519132</td><td>36.201355</td><td>151.42456</td><td>42.042908</td><td>204.47147</td><td>499298475.9519633</td><td>5983979</td><td>499296422</td><td>0</td><td>0 .. 0</td><td>False .. True</td><td>False .. False</td><td>1</td><td>46.394015073776245</td><td>0.0</td><td>0.0</td><td>0.0</td><td>0.0</td><td>0.0</td><td>0.2519568074241076</td></tr>\n",
       "<tr><td>263.03574</td><td>134.95343</td><td>-37.00018</td><td>260.0717</td><td>5.924866</td><td>39.421516</td><td>159.81625</td><td>51.444687</td><td>206.89809</td><td>499298598.77208596</td><td>6195127</td><td>499296422</td><td>0</td><td>0 .. 0</td><td>False .. True</td><td>False .. True</td><td>0</td><td>169.21413773298264</td><td>0.0</td><td>0.0</td><td>0.0</td><td>0.0</td><td>0.0</td><td>0.21661655731227075</td></tr>\n",
       "<tr><td>1424.0302</td><td>127.8513</td><td>-38.442913</td><td>257.70267</td><td>0.6304529</td><td>62.952938</td><td>146.24492</td><td>80.985306</td><td>224.02386</td><td>499299058.6257986</td><td>7017477</td><td>499296422</td><td>0</td><td>0 .. 0</td><td>False .. True</td><td>False .. True</td><td>0</td><td>20.025878250598907</td><td>0.0</td><td>0.0</td><td>0.0</td><td>0.0</td><td>0.0</td><td>0.4934066626707047</td></tr>\n",
       "</table></div>"
      ],
      "text/plain": [
       "<Table length=4899>\n",
       "  ENERGY      RA        DEC         L          B      ... DIFRSP1 DIFRSP2 DIFRSP3 DIFRSP4     PULSE_PHASE     \n",
       "   MeV       deg        deg        deg        deg     ...                                                     \n",
       " float32   float32    float32    float32    float32   ... float32 float32 float32 float32       float64       \n",
       "--------- ---------- ---------- --------- ----------- ... ------- ------- ------- ------- --------------------\n",
       "52.199474   145.1223 -54.629803 277.55798  -1.4525373 ...     0.0     0.0     0.0     0.0   0.8431260226380742\n",
       " 284.0746  143.75316  -56.40009 278.16013  -3.2889855 ...     0.0     0.0     0.0     0.0    0.700449422177881\n",
       " 46.53251  141.13872 -55.284657 276.32416  -3.4871144 ...     0.0     0.0     0.0     0.0   0.3263010641267725\n",
       " 513.7142  136.21635 -55.439697 274.50073      -5.619 ...     0.0     0.0     0.0     0.0   0.3597832684371744\n",
       " 282.0987  139.33492  -56.89352 276.75735   -5.334833 ...     0.0     0.0     0.0     0.0   0.8877265175614312\n",
       "396.63797  145.57863  -55.54905 278.35886  -1.9744414 ...     0.0     0.0     0.0     0.0  0.37723979413497455\n",
       " 61.99164  141.82166 -56.967182  277.7733  -4.4282804 ...     0.0     0.0     0.0     0.0 0.031491794002498005\n",
       " 1194.454  142.68428 -54.689682 276.55283   -2.443972 ...     0.0     0.0     0.0     0.0   0.5051692846469618\n",
       "256.74582  145.10135  -54.36117 277.37177  -1.2584938 ...     0.0     0.0     0.0     0.0   0.8622278331308556\n",
       "388.96347  141.35648 -55.485233 276.55325   -3.544119 ...     0.0     0.0     0.0     0.0    0.608790271040499\n",
       "1254.1447   141.1388 -55.975483 276.80887  -3.9803495 ...     0.0     0.0     0.0     0.0   0.5692694365974444\n",
       "424.73218  146.89941  -54.22834  278.0835 -0.47597808 ...     0.0     0.0     0.0     0.0   0.6106001073494176\n",
       "101.21746  141.20685 -56.160233 276.96573   -4.085686 ...     0.0     0.0     0.0     0.0   0.3129879076030434\n",
       "663.33905  142.83493 -57.115643 278.27652   -4.156084 ...     0.0     0.0     0.0     0.0  0.36228885280969136\n",
       "54.665886  145.83064 -55.336716  278.3285  -1.7202737 ...     0.0     0.0     0.0     0.0    0.897850582485491\n",
       "1277.2559  144.27737 -56.002308  278.1093   -2.798386 ...     0.0     0.0     0.0     0.0   0.5852648849103619\n",
       "104.92326  142.57379 -55.514767 277.07242  -3.0884757 ...     0.0     0.0     0.0     0.0  0.25104166458677435\n",
       " 72.64915  143.32838  -56.70349 278.19284  -3.6708279 ...     0.0     0.0     0.0     0.0   0.9228181053809104\n",
       "320.29343  141.89552   -55.3469 276.67725   -3.231985 ...     0.0     0.0     0.0     0.0   0.7493030674840534\n",
       "      ...        ...        ...       ...         ... ...     ...     ...     ...     ...                  ...\n",
       "225.90584  138.74373 -36.900265 262.03784    8.243806 ...     0.0     0.0     0.0     0.0   0.3742063874483244\n",
       "154.17245  137.89825 -37.144596 261.75397   7.5832834 ...     0.0     0.0     0.0     0.0    0.714036270984695\n",
       "117.74741  126.71643 -38.739975 257.42365  -0.2624032 ...     0.0     0.0     0.0     0.0  0.46314734295937493\n",
       " 135.7589  131.52803 -31.976934 254.36333   6.9325857 ...     0.0     0.0     0.0     0.0   0.8787831204871939\n",
       " 293.7213  127.04734 -39.565395 258.24408  -0.5345087 ...     0.0     0.0     0.0     0.0   0.3575367402146453\n",
       " 182.6508  125.33242 -39.336517  257.2939  -1.4849494 ...     0.0     0.0     0.0     0.0  0.45492870744539704\n",
       "1493.3834  135.46152  -37.46499  260.6912   5.9263616 ...     0.0     0.0     0.0     0.0   0.7510448088863968\n",
       "211.68347  134.28159 -32.180904  256.0042    8.618341 ...     0.0     0.0     0.0     0.0   0.6035384591210036\n",
       " 372.0462  140.17244 -36.998745 262.90802   9.0008545 ...     0.0     0.0     0.0     0.0     0.63435313116785\n",
       "515.14417   140.9862  -37.33605  263.6121      9.2267 ...     0.0     0.0     0.0     0.0 0.018597558687016312\n",
       " 52.59737  134.16098 -39.470757 261.55032    3.846217 ...     0.0     0.0     0.0     0.0  0.10669177018270776\n",
       "188.62376  129.06554 -39.585476 259.18253  0.70627356 ...     0.0     0.0     0.0     0.0   0.8987065610412801\n",
       "1066.3567 124.480255 -39.712997  257.2335  -2.2400258 ...     0.0     0.0     0.0     0.0   0.6379178335610135\n",
       "3166.0886   129.6384  -38.77604 258.80597   1.5492604 ...     0.0     0.0     0.0     0.0   0.9252612041220637\n",
       " 437.8083  142.02579 -37.064106  264.0133   10.003334 ...     0.0     0.0     0.0     0.0 0.018994916203239353\n",
       " 297.1876  136.24277 -37.380833 261.03983    6.447795 ...     0.0     0.0     0.0     0.0 0.006918495920165331\n",
       " 9615.743  134.87793 -32.933273 256.91373    8.519132 ...     0.0     0.0     0.0     0.0   0.2519568074241076\n",
       "263.03574  134.95343  -37.00018  260.0717    5.924866 ...     0.0     0.0     0.0     0.0  0.21661655731227075\n",
       "1424.0302   127.8513 -38.442913 257.70267   0.6304529 ...     0.0     0.0     0.0     0.0   0.4934066626707047"
      ]
     },
     "execution_count": 16,
     "metadata": {},
     "output_type": "execute_result"
    }
   ],
   "source": [
    "obs.fermi_events.table"
   ]
  },
  {
   "cell_type": "markdown",
   "id": "61c436cc",
   "metadata": {},
   "source": [
    "As we can see above, the phases column does not seems to be in the original file. This is because the table is only loaded once. To check that the column has been written in the original file, we need to re-load the file."
   ]
  },
  {
   "cell_type": "code",
   "execution_count": 17,
   "id": "fb9be699",
   "metadata": {},
   "outputs": [],
   "source": [
    "fermi_ev = FermiEvents(filename=events_file)"
   ]
  },
  {
   "cell_type": "code",
   "execution_count": 18,
   "id": "027a506a",
   "metadata": {
    "scrolled": true
   },
   "outputs": [
    {
     "data": {
      "text/html": [
       "<div><i>Table length=4899</i>\n",
       "<table id=\"table6053177712\" class=\"table-striped table-bordered table-condensed\">\n",
       "<thead><tr><th>ENERGY</th><th>RA</th><th>DEC</th><th>L</th><th>B</th><th>THETA</th><th>PHI</th><th>ZENITH_ANGLE</th><th>EARTH_AZIMUTH_ANGLE</th><th>TIME</th><th>EVENT_ID</th><th>RUN_ID</th><th>RECON_VERSION</th><th>CALIB_VERSION</th><th>EVENT_CLASS</th><th>EVENT_TYPE</th><th>CONVERSION_TYPE</th><th>LIVETIME</th><th>DIFRSP0</th><th>DIFRSP1</th><th>DIFRSP2</th><th>DIFRSP3</th><th>DIFRSP4</th><th>PULSE_PHASE</th></tr></thead>\n",
       "<thead><tr><th>MeV</th><th>deg</th><th>deg</th><th>deg</th><th>deg</th><th>deg</th><th>deg</th><th>deg</th><th>deg</th><th>s</th><th></th><th></th><th></th><th></th><th></th><th></th><th></th><th>s</th><th></th><th></th><th></th><th></th><th></th><th></th></tr></thead>\n",
       "<thead><tr><th>float32</th><th>float32</th><th>float32</th><th>float32</th><th>float32</th><th>float32</th><th>float32</th><th>float32</th><th>float32</th><th>float64</th><th>int32</th><th>int32</th><th>int16</th><th>int16[3]</th><th>bool[32]</th><th>bool[32]</th><th>int16</th><th>float64</th><th>float32</th><th>float32</th><th>float32</th><th>float32</th><th>float32</th><th>float64</th></tr></thead>\n",
       "<tr><td>52.199474</td><td>145.1223</td><td>-54.629803</td><td>277.55798</td><td>-1.4525373</td><td>9.108761</td><td>70.05413</td><td>44.111633</td><td>152.51736</td><td>499137738.6207186</td><td>1589304</td><td>499137307</td><td>0</td><td>0 .. 0</td><td>False .. True</td><td>False .. True</td><td>0</td><td>75.78507024049759</td><td>0.0</td><td>0.0</td><td>0.0</td><td>0.0</td><td>0.0</td><td>0.8431260226380742</td></tr>\n",
       "<tr><td>284.0746</td><td>143.75316</td><td>-56.40009</td><td>278.16013</td><td>-3.2889855</td><td>6.2098026</td><td>90.34294</td><td>44.42939</td><td>157.37547</td><td>499137789.82818514</td><td>1731249</td><td>499137307</td><td>0</td><td>0 .. 0</td><td>False .. True</td><td>False .. True</td><td>0</td><td>126.99253678321838</td><td>0.0</td><td>0.0</td><td>0.0</td><td>0.0</td><td>0.0</td><td>0.700449422177881</td></tr>\n",
       "<tr><td>46.53251</td><td>141.13872</td><td>-55.284657</td><td>276.32416</td><td>-3.4871144</td><td>7.5151353</td><td>112.30064</td><td>42.546646</td><td>160.13455</td><td>499137833.41689736</td><td>1846818</td><td>499137307</td><td>0</td><td>0 .. 0</td><td>False .. True</td><td>False .. True</td><td>0</td><td>170.58124899864197</td><td>0.0</td><td>0.0</td><td>0.0</td><td>0.0</td><td>0.0</td><td>0.3263010641267725</td></tr>\n",
       "<tr><td>513.7142</td><td>136.21635</td><td>-55.439697</td><td>274.50073</td><td>-5.619</td><td>32.575047</td><td>173.38452</td><td>57.94371</td><td>193.46944</td><td>499138503.8478784</td><td>3143157</td><td>499137307</td><td>0</td><td>0 .. 0</td><td>False .. True</td><td>False .. True</td><td>0</td><td>46.99963027238846</td><td>0.0</td><td>0.0</td><td>0.0</td><td>0.0</td><td>0.0</td><td>0.3597832684371744</td></tr>\n",
       "<tr><td>282.0987</td><td>139.33492</td><td>-56.89352</td><td>276.75735</td><td>-5.334833</td><td>10.782901</td><td>163.72531</td><td>44.94696</td><td>170.33803</td><td>499149417.65043396</td><td>372974</td><td>499149294</td><td>0</td><td>0 .. 0</td><td>False .. True</td><td>False .. True</td><td>0</td><td>120.00128203630447</td><td>0.0</td><td>0.0</td><td>0.0</td><td>0.0</td><td>0.0</td><td>0.8877265175614312</td></tr>\n",
       "<tr><td>396.63797</td><td>145.57863</td><td>-55.54905</td><td>278.35886</td><td>-1.9744414</td><td>8.541765</td><td>157.79271</td><td>45.28164</td><td>166.61441</td><td>499149449.159501</td><td>449548</td><td>499149294</td><td>0</td><td>0 .. 0</td><td>False .. True</td><td>False .. False</td><td>1</td><td>151.5103490948677</td><td>0.0</td><td>0.0</td><td>0.0</td><td>0.0</td><td>0.0</td><td>0.37723979413497455</td></tr>\n",
       "<tr><td>61.99164</td><td>141.82166</td><td>-56.967182</td><td>277.7733</td><td>-4.4282804</td><td>15.751049</td><td>176.12804</td><td>48.336662</td><td>176.27562</td><td>499149586.16385925</td><td>757033</td><td>499149294</td><td>0</td><td>0 .. 0</td><td>False .. True</td><td>False .. True</td><td>0</td><td>30.666968822479248</td><td>0.0</td><td>0.0</td><td>0.0</td><td>0.0</td><td>0.0</td><td>0.031491794002498005</td></tr>\n",
       "<tr><td>1194.454</td><td>142.68428</td><td>-54.689682</td><td>276.55283</td><td>-2.443972</td><td>19.719585</td><td>172.35884</td><td>49.000313</td><td>180.64934</td><td>499149704.38045764</td><td>998386</td><td>499149294</td><td>0</td><td>0 .. 0</td><td>False .. True</td><td>False .. True</td><td>0</td><td>148.88356721401215</td><td>0.0</td><td>0.0</td><td>0.0</td><td>0.0</td><td>0.0</td><td>0.5051692846469618</td></tr>\n",
       "<tr><td>256.74582</td><td>145.10135</td><td>-54.36117</td><td>277.37177</td><td>-1.2584938</td><td>25.707987</td><td>173.63463</td><td>54.13648</td><td>186.39784</td><td>499149888.3786183</td><td>1347166</td><td>499149294</td><td>0</td><td>0 .. 0</td><td>False .. True</td><td>False .. True</td><td>0</td><td>53.977064311504364</td><td>0.0</td><td>0.0</td><td>0.0</td><td>0.0</td><td>0.0</td><td>0.8622278331308556</td></tr>\n",
       "<tr><td>388.96347</td><td>141.35648</td><td>-55.485233</td><td>276.55325</td><td>-3.544119</td><td>35.3628</td><td>172.6196</td><td>62.70067</td><td>194.4824</td><td>499150071.6970757</td><td>1680007</td><td>499149294</td><td>0</td><td>0 .. 0</td><td>False .. True</td><td>False .. False</td><td>1</td><td>237.29552173614502</td><td>0.0</td><td>0.0</td><td>0.0</td><td>0.0</td><td>0.0</td><td>0.608790271040499</td></tr>\n",
       "<tr><td>1254.1447</td><td>141.1388</td><td>-55.975483</td><td>276.80887</td><td>-3.9803495</td><td>35.780018</td><td>174.64954</td><td>63.72382</td><td>194.39552</td><td>499161504.18185484</td><td>696436</td><td>499161207</td><td>0</td><td>0 .. 0</td><td>False .. True</td><td>False .. False</td><td>1</td><td>293.53092217445374</td><td>0.0</td><td>0.0</td><td>0.0</td><td>0.0</td><td>0.0</td><td>0.5692694365974444</td></tr>\n",
       "<tr><td>424.73218</td><td>146.89941</td><td>-54.22834</td><td>278.0835</td><td>-0.47597808</td><td>30.30634</td><td>43.98158</td><td>59.663242</td><td>139.7712</td><td>499171464.6009154</td><td>8264995</td><td>499167157</td><td>0</td><td>0 .. 0</td><td>False .. True</td><td>False .. True</td><td>0</td><td>16.963837444782257</td><td>0.0</td><td>0.0</td><td>0.0</td><td>0.0</td><td>0.0</td><td>0.6106001073494176</td></tr>\n",
       "<tr><td>101.21746</td><td>141.20685</td><td>-56.160233</td><td>276.96573</td><td>-4.085686</td><td>17.09148</td><td>50.990234</td><td>49.03428</td><td>145.72116</td><td>499171713.78986734</td><td>8789410</td><td>499167157</td><td>0</td><td>0 .. 0</td><td>False .. True</td><td>False .. True</td><td>0</td><td>0.0051801204681396484</td><td>0.0</td><td>0.0</td><td>0.0</td><td>0.0</td><td>0.0</td><td>0.3129879076030434</td></tr>\n",
       "<tr><td>663.33905</td><td>142.83493</td><td>-57.115643</td><td>278.27652</td><td>-4.156084</td><td>10.492716</td><td>53.93294</td><td>47.18674</td><td>150.87419</td><td>499171870.3144862</td><td>9109143</td><td>499167157</td><td>0</td><td>0 .. 0</td><td>False .. True</td><td>False .. False</td><td>1</td><td>156.5297989845276</td><td>0.0</td><td>0.0</td><td>0.0</td><td>0.0</td><td>0.0</td><td>0.36228885280969136</td></tr>\n",
       "<tr><td>54.665886</td><td>145.83064</td><td>-55.336716</td><td>278.3285</td><td>-1.7202737</td><td>42.856243</td><td>164.2693</td><td>72.46052</td><td>199.04623</td><td>499173180.82684153</td><td>536716</td><td>499172958</td><td>0</td><td>0 .. 0</td><td>False .. True</td><td>False .. True</td><td>0</td><td>219.1726993918419</td><td>0.0</td><td>0.0</td><td>0.0</td><td>0.0</td><td>0.0</td><td>0.897850582485491</td></tr>\n",
       "<tr><td>1277.2559</td><td>144.27737</td><td>-56.002308</td><td>278.1093</td><td>-2.798386</td><td>52.250675</td><td>54.55338</td><td>84.15366</td><td>149.0412</td><td>499182251.2573963</td><td>7745631</td><td>499178260</td><td>0</td><td>0 .. 0</td><td>False .. True</td><td>False .. False</td><td>1</td><td>53.68788254261017</td><td>0.0</td><td>0.0</td><td>0.0</td><td>0.0</td><td>0.0</td><td>0.5852648849103619</td></tr>\n",
       "<tr><td>104.92326</td><td>142.57379</td><td>-55.514767</td><td>277.07242</td><td>-3.0884757</td><td>49.36848</td><td>54.367332</td><td>79.81721</td><td>146.51302</td><td>499182335.87772185</td><td>8010877</td><td>499178260</td><td>0</td><td>0 .. 0</td><td>False .. True</td><td>False .. False</td><td>1</td><td>14.680038452148438</td><td>0.0</td><td>0.0</td><td>0.0</td><td>0.0</td><td>0.0</td><td>0.25104166458677435</td></tr>\n",
       "<tr><td>72.64915</td><td>143.32838</td><td>-56.70349</td><td>278.19284</td><td>-3.6708279</td><td>29.136976</td><td>45.740593</td><td>59.639034</td><td>142.57625</td><td>499182835.25923556</td><td>9583484</td><td>499178260</td><td>0</td><td>0 .. 0</td><td>False .. True</td><td>False .. True</td><td>0</td><td>103.97645872831345</td><td>0.0</td><td>0.0</td><td>0.0</td><td>0.0</td><td>0.0</td><td>0.9228181053809104</td></tr>\n",
       "<tr><td>320.29343</td><td>141.89552</td><td>-55.3469</td><td>276.67725</td><td>-3.231985</td><td>6.7213807</td><td>89.30022</td><td>44.21824</td><td>156.10065</td><td>499183461.77064973</td><td>11082807</td><td>499178260</td><td>0</td><td>0 .. 0</td><td>False .. True</td><td>False .. False</td><td>1</td><td>118.07559901475906</td><td>0.0</td><td>0.0</td><td>0.0</td><td>0.0</td><td>0.0</td><td>0.7493030674840534</td></tr>\n",
       "<tr><td>...</td><td>...</td><td>...</td><td>...</td><td>...</td><td>...</td><td>...</td><td>...</td><td>...</td><td>...</td><td>...</td><td>...</td><td>...</td><td>...</td><td>...</td><td>...</td><td>...</td><td>...</td><td>...</td><td>...</td><td>...</td><td>...</td><td>...</td><td>...</td></tr>\n",
       "<tr><td>225.90584</td><td>138.74373</td><td>-36.900265</td><td>262.03784</td><td>8.243806</td><td>25.937096</td><td>77.30843</td><td>37.85024</td><td>127.68227</td><td>499297571.33462805</td><td>4304484</td><td>499296422</td><td>0</td><td>0 .. 0</td><td>False .. True</td><td>False .. False</td><td>1</td><td>169.34670650959015</td><td>0.0</td><td>0.0</td><td>0.0</td><td>0.0</td><td>0.0</td><td>0.3742063874483244</td></tr>\n",
       "<tr><td>154.17245</td><td>137.89825</td><td>-37.144596</td><td>261.75397</td><td>7.5832834</td><td>24.701504</td><td>80.90357</td><td>36.251877</td><td>130.1044</td><td>499297603.00881004</td><td>4384717</td><td>499296422</td><td>0</td><td>0 .. 0</td><td>False .. True</td><td>False .. True</td><td>0</td><td>201.02088850736618</td><td>0.0</td><td>0.0</td><td>0.0</td><td>0.0</td><td>0.0</td><td>0.714036270984695</td></tr>\n",
       "<tr><td>117.74741</td><td>126.71643</td><td>-38.739975</td><td>257.42365</td><td>-0.2624032</td><td>22.415382</td><td>116.82771</td><td>27.750141</td><td>154.67412</td><td>499297743.4172173</td><td>4707932</td><td>499296422</td><td>0</td><td>0 .. 0</td><td>False .. True</td><td>False .. False</td><td>1</td><td>115.80997282266617</td><td>0.0</td><td>0.0</td><td>0.0</td><td>0.0</td><td>0.0</td><td>0.46314734295937493</td></tr>\n",
       "<tr><td>135.7589</td><td>131.52803</td><td>-31.976934</td><td>254.36333</td><td>6.9325857</td><td>27.351147</td><td>103.38582</td><td>24.990713</td><td>139.10973</td><td>499297753.019059</td><td>4728315</td><td>499296422</td><td>0</td><td>0 .. 0</td><td>False .. True</td><td>False .. True</td><td>0</td><td>125.4118145108223</td><td>0.0</td><td>0.0</td><td>0.0</td><td>0.0</td><td>0.0</td><td>0.8787831204871939</td></tr>\n",
       "<tr><td>293.7213</td><td>127.04734</td><td>-39.565395</td><td>258.24408</td><td>-0.5345087</td><td>21.54645</td><td>121.82512</td><td>28.545034</td><td>159.39885</td><td>499297785.5102985</td><td>4795377</td><td>499296422</td><td>0</td><td>0 .. 0</td><td>False .. True</td><td>False .. False</td><td>1</td><td>157.90305399894714</td><td>0.0</td><td>0.0</td><td>0.0</td><td>0.0</td><td>0.0</td><td>0.3575367402146453</td></tr>\n",
       "<tr><td>182.6508</td><td>125.33242</td><td>-39.336517</td><td>257.2939</td><td>-1.4849494</td><td>22.491745</td><td>126.15097</td><td>27.860987</td><td>163.332</td><td>499297800.6258639</td><td>4826175</td><td>499296422</td><td>0</td><td>0 .. 0</td><td>False .. True</td><td>False .. True</td><td>0</td><td>173.01861941814423</td><td>0.0</td><td>0.0</td><td>0.0</td><td>0.0</td><td>0.0</td><td>0.45492870744539704</td></tr>\n",
       "<tr><td>1493.3834</td><td>135.46152</td><td>-37.46499</td><td>260.6912</td><td>5.9263616</td><td>20.592358</td><td>104.9054</td><td>30.368069</td><td>147.77144</td><td>499297804.85365057</td><td>4834799</td><td>499296422</td><td>0</td><td>0 .. 0</td><td>False .. True</td><td>False .. False</td><td>1</td><td>177.24640607833862</td><td>0.0</td><td>0.0</td><td>0.0</td><td>0.0</td><td>0.0</td><td>0.7510448088863968</td></tr>\n",
       "<tr><td>211.68347</td><td>134.28159</td><td>-32.180904</td><td>256.0042</td><td>8.618341</td><td>25.74384</td><td>104.510826</td><td>25.579702</td><td>143.48021</td><td>499297821.7351265</td><td>4868613</td><td>499296422</td><td>0</td><td>0 .. 0</td><td>False .. True</td><td>False .. True</td><td>0</td><td>194.12788200378418</td><td>0.0</td><td>0.0</td><td>0.0</td><td>0.0</td><td>0.0</td><td>0.6035384591210036</td></tr>\n",
       "<tr><td>372.0462</td><td>140.17244</td><td>-36.998745</td><td>262.90802</td><td>9.0008545</td><td>19.335598</td><td>99.489365</td><td>32.008038</td><td>145.97359</td><td>499297851.5046814</td><td>4926616</td><td>499296422</td><td>0</td><td>0 .. 0</td><td>False .. True</td><td>False .. False</td><td>1</td><td>223.89743691682816</td><td>0.0</td><td>0.0</td><td>0.0</td><td>0.0</td><td>0.0</td><td>0.63435313116785</td></tr>\n",
       "<tr><td>515.14417</td><td>140.9862</td><td>-37.33605</td><td>263.6121</td><td>9.2267</td><td>18.18502</td><td>107.0379</td><td>32.074417</td><td>151.80983</td><td>499297923.40850437</td><td>5061595</td><td>499296422</td><td>0</td><td>0 .. 0</td><td>False .. True</td><td>False .. False</td><td>1</td><td>37.14664328098297</td><td>0.0</td><td>0.0</td><td>0.0</td><td>0.0</td><td>0.0</td><td>0.018597558687016312</td></tr>\n",
       "<tr><td>52.59737</td><td>134.16098</td><td>-39.470757</td><td>261.55032</td><td>3.846217</td><td>24.038548</td><td>149.32672</td><td>36.17929</td><td>183.47221</td><td>499298170.5803134</td><td>5483155</td><td>499296422</td><td>0</td><td>0 .. 0</td><td>False .. True</td><td>False .. False</td><td>1</td><td>3.987648665904999</td><td>0.0</td><td>0.0</td><td>0.0</td><td>0.0</td><td>0.0</td><td>0.10669177018270776</td></tr>\n",
       "<tr><td>188.62376</td><td>129.06554</td><td>-39.585476</td><td>259.18253</td><td>0.70627356</td><td>29.816683</td><td>157.47586</td><td>39.674656</td><td>194.36311</td><td>499298242.8786465</td><td>5600655</td><td>499296422</td><td>0</td><td>0 .. 0</td><td>False .. True</td><td>False .. False</td><td>1</td><td>76.28598177433014</td><td>0.0</td><td>0.0</td><td>0.0</td><td>0.0</td><td>0.0</td><td>0.8987065610412801</td></tr>\n",
       "<tr><td>1066.3567</td><td>124.480255</td><td>-39.712997</td><td>257.2335</td><td>-2.2400258</td><td>35.183083</td><td>162.53983</td><td>43.91489</td><td>202.19933</td><td>499298304.08791643</td><td>5700524</td><td>499296422</td><td>0</td><td>0 .. 0</td><td>False .. True</td><td>False .. False</td><td>1</td><td>137.49525171518326</td><td>0.0</td><td>0.0</td><td>0.0</td><td>0.0</td><td>0.0</td><td>0.6379178335610135</td></tr>\n",
       "<tr><td>3166.0886</td><td>129.6384</td><td>-38.77604</td><td>258.80597</td><td>1.5492604</td><td>35.316467</td><td>161.34132</td><td>45.644165</td><td>202.15492</td><td>499298400.4768437</td><td>5858273</td><td>499296422</td><td>0</td><td>0 .. 0</td><td>False .. True</td><td>False .. True</td><td>0</td><td>233.88417899608612</td><td>0.0</td><td>0.0</td><td>0.0</td><td>0.0</td><td>0.0</td><td>0.9252612041220637</td></tr>\n",
       "<tr><td>437.8083</td><td>142.02579</td><td>-37.064106</td><td>264.0133</td><td>10.003334</td><td>27.846178</td><td>153.50656</td><td>41.90988</td><td>191.79123</td><td>499298435.61583287</td><td>5916439</td><td>499296422</td><td>0</td><td>0 .. 0</td><td>False .. True</td><td>False .. True</td><td>0</td><td>6.057884633541107</td><td>0.0</td><td>0.0</td><td>0.0</td><td>0.0</td><td>0.0</td><td>0.018994916203239353</td></tr>\n",
       "<tr><td>297.1876</td><td>136.24277</td><td>-37.380833</td><td>261.03983</td><td>6.447795</td><td>33.118736</td><td>157.7121</td><td>44.877956</td><td>199.41534</td><td>499298462.52141786</td><td>5961495</td><td>499296422</td><td>0</td><td>0 .. 0</td><td>False .. True</td><td>False .. True</td><td>0</td><td>32.96346962451935</td><td>0.0</td><td>0.0</td><td>0.0</td><td>0.0</td><td>0.0</td><td>0.006918495920165331</td></tr>\n",
       "<tr><td>9615.743</td><td>134.87793</td><td>-32.933273</td><td>256.91373</td><td>8.519132</td><td>36.201355</td><td>151.42456</td><td>42.042908</td><td>204.47147</td><td>499298475.9519633</td><td>5983979</td><td>499296422</td><td>0</td><td>0 .. 0</td><td>False .. True</td><td>False .. False</td><td>1</td><td>46.394015073776245</td><td>0.0</td><td>0.0</td><td>0.0</td><td>0.0</td><td>0.0</td><td>0.2519568074241076</td></tr>\n",
       "<tr><td>263.03574</td><td>134.95343</td><td>-37.00018</td><td>260.0717</td><td>5.924866</td><td>39.421516</td><td>159.81625</td><td>51.444687</td><td>206.89809</td><td>499298598.77208596</td><td>6195127</td><td>499296422</td><td>0</td><td>0 .. 0</td><td>False .. True</td><td>False .. True</td><td>0</td><td>169.21413773298264</td><td>0.0</td><td>0.0</td><td>0.0</td><td>0.0</td><td>0.0</td><td>0.21661655731227075</td></tr>\n",
       "<tr><td>1424.0302</td><td>127.8513</td><td>-38.442913</td><td>257.70267</td><td>0.6304529</td><td>62.952938</td><td>146.24492</td><td>80.985306</td><td>224.02386</td><td>499299058.6257986</td><td>7017477</td><td>499296422</td><td>0</td><td>0 .. 0</td><td>False .. True</td><td>False .. True</td><td>0</td><td>20.025878250598907</td><td>0.0</td><td>0.0</td><td>0.0</td><td>0.0</td><td>0.0</td><td>0.4934066626707047</td></tr>\n",
       "</table></div>"
      ],
      "text/plain": [
       "<Table length=4899>\n",
       "  ENERGY      RA        DEC         L          B      ... DIFRSP1 DIFRSP2 DIFRSP3 DIFRSP4     PULSE_PHASE     \n",
       "   MeV       deg        deg        deg        deg     ...                                                     \n",
       " float32   float32    float32    float32    float32   ... float32 float32 float32 float32       float64       \n",
       "--------- ---------- ---------- --------- ----------- ... ------- ------- ------- ------- --------------------\n",
       "52.199474   145.1223 -54.629803 277.55798  -1.4525373 ...     0.0     0.0     0.0     0.0   0.8431260226380742\n",
       " 284.0746  143.75316  -56.40009 278.16013  -3.2889855 ...     0.0     0.0     0.0     0.0    0.700449422177881\n",
       " 46.53251  141.13872 -55.284657 276.32416  -3.4871144 ...     0.0     0.0     0.0     0.0   0.3263010641267725\n",
       " 513.7142  136.21635 -55.439697 274.50073      -5.619 ...     0.0     0.0     0.0     0.0   0.3597832684371744\n",
       " 282.0987  139.33492  -56.89352 276.75735   -5.334833 ...     0.0     0.0     0.0     0.0   0.8877265175614312\n",
       "396.63797  145.57863  -55.54905 278.35886  -1.9744414 ...     0.0     0.0     0.0     0.0  0.37723979413497455\n",
       " 61.99164  141.82166 -56.967182  277.7733  -4.4282804 ...     0.0     0.0     0.0     0.0 0.031491794002498005\n",
       " 1194.454  142.68428 -54.689682 276.55283   -2.443972 ...     0.0     0.0     0.0     0.0   0.5051692846469618\n",
       "256.74582  145.10135  -54.36117 277.37177  -1.2584938 ...     0.0     0.0     0.0     0.0   0.8622278331308556\n",
       "388.96347  141.35648 -55.485233 276.55325   -3.544119 ...     0.0     0.0     0.0     0.0    0.608790271040499\n",
       "1254.1447   141.1388 -55.975483 276.80887  -3.9803495 ...     0.0     0.0     0.0     0.0   0.5692694365974444\n",
       "424.73218  146.89941  -54.22834  278.0835 -0.47597808 ...     0.0     0.0     0.0     0.0   0.6106001073494176\n",
       "101.21746  141.20685 -56.160233 276.96573   -4.085686 ...     0.0     0.0     0.0     0.0   0.3129879076030434\n",
       "663.33905  142.83493 -57.115643 278.27652   -4.156084 ...     0.0     0.0     0.0     0.0  0.36228885280969136\n",
       "54.665886  145.83064 -55.336716  278.3285  -1.7202737 ...     0.0     0.0     0.0     0.0    0.897850582485491\n",
       "1277.2559  144.27737 -56.002308  278.1093   -2.798386 ...     0.0     0.0     0.0     0.0   0.5852648849103619\n",
       "104.92326  142.57379 -55.514767 277.07242  -3.0884757 ...     0.0     0.0     0.0     0.0  0.25104166458677435\n",
       " 72.64915  143.32838  -56.70349 278.19284  -3.6708279 ...     0.0     0.0     0.0     0.0   0.9228181053809104\n",
       "320.29343  141.89552   -55.3469 276.67725   -3.231985 ...     0.0     0.0     0.0     0.0   0.7493030674840534\n",
       "      ...        ...        ...       ...         ... ...     ...     ...     ...     ...                  ...\n",
       "225.90584  138.74373 -36.900265 262.03784    8.243806 ...     0.0     0.0     0.0     0.0   0.3742063874483244\n",
       "154.17245  137.89825 -37.144596 261.75397   7.5832834 ...     0.0     0.0     0.0     0.0    0.714036270984695\n",
       "117.74741  126.71643 -38.739975 257.42365  -0.2624032 ...     0.0     0.0     0.0     0.0  0.46314734295937493\n",
       " 135.7589  131.52803 -31.976934 254.36333   6.9325857 ...     0.0     0.0     0.0     0.0   0.8787831204871939\n",
       " 293.7213  127.04734 -39.565395 258.24408  -0.5345087 ...     0.0     0.0     0.0     0.0   0.3575367402146453\n",
       " 182.6508  125.33242 -39.336517  257.2939  -1.4849494 ...     0.0     0.0     0.0     0.0  0.45492870744539704\n",
       "1493.3834  135.46152  -37.46499  260.6912   5.9263616 ...     0.0     0.0     0.0     0.0   0.7510448088863968\n",
       "211.68347  134.28159 -32.180904  256.0042    8.618341 ...     0.0     0.0     0.0     0.0   0.6035384591210036\n",
       " 372.0462  140.17244 -36.998745 262.90802   9.0008545 ...     0.0     0.0     0.0     0.0     0.63435313116785\n",
       "515.14417   140.9862  -37.33605  263.6121      9.2267 ...     0.0     0.0     0.0     0.0 0.018597558687016312\n",
       " 52.59737  134.16098 -39.470757 261.55032    3.846217 ...     0.0     0.0     0.0     0.0  0.10669177018270776\n",
       "188.62376  129.06554 -39.585476 259.18253  0.70627356 ...     0.0     0.0     0.0     0.0   0.8987065610412801\n",
       "1066.3567 124.480255 -39.712997  257.2335  -2.2400258 ...     0.0     0.0     0.0     0.0   0.6379178335610135\n",
       "3166.0886   129.6384  -38.77604 258.80597   1.5492604 ...     0.0     0.0     0.0     0.0   0.9252612041220637\n",
       " 437.8083  142.02579 -37.064106  264.0133   10.003334 ...     0.0     0.0     0.0     0.0 0.018994916203239353\n",
       " 297.1876  136.24277 -37.380833 261.03983    6.447795 ...     0.0     0.0     0.0     0.0 0.006918495920165331\n",
       " 9615.743  134.87793 -32.933273 256.91373    8.519132 ...     0.0     0.0     0.0     0.0   0.2519568074241076\n",
       "263.03574  134.95343  -37.00018  260.0717    5.924866 ...     0.0     0.0     0.0     0.0  0.21661655731227075\n",
       "1424.0302   127.8513 -38.442913 257.70267   0.6304529 ...     0.0     0.0     0.0     0.0   0.4934066626707047"
      ]
     },
     "execution_count": 18,
     "metadata": {},
     "output_type": "execute_result"
    }
   ],
   "source": [
    "fermi_ev.table"
   ]
  },
  {
   "cell_type": "markdown",
   "id": "7d4f7c52",
   "metadata": {},
   "source": [
    "Everything is fine, the column has been written !\n",
    "\n",
    "We can also check the meta data that have been written in the header of the file."
   ]
  },
  {
   "cell_type": "code",
   "execution_count": 19,
   "id": "b45ec216",
   "metadata": {},
   "outputs": [
    {
     "data": {
      "text/plain": [
       "\"{'COLUMN_NAME': 'PULSE_PHASE', 'EPHEMERIS_FILE': '835-4510_tnfit_220401.par', 'PINT_VERS': '0.9.5', 'PSR': 'J0835-4510', 'START': 54682.71577, 'FINISH': 59662.01623, 'TZRMJD': 56623.155266039132176, 'TZRSITE': 'coe', 'TZRFREQ': None, 'EPHEM': 'DE421', 'RAJ': 8.589058747222223, 'DECJ': -45.17635419444444, 'PHASE_OFFSET': None, 'DATE': 60103.67825028197}\""
      ]
     },
     "execution_count": 19,
     "metadata": {},
     "output_type": "execute_result"
    }
   ],
   "source": [
    "fermi_ev.table.meta[\"PHSE_LOG\"]"
   ]
  },
  {
   "cell_type": "markdown",
   "id": "583f20d9",
   "metadata": {},
   "source": [
    "You can see that the meta data are stored as a long string containing a number of information. However, this string itself conatains a dictionnaly. We can use the `eval` function of `python` and some `json` to better see these meta data."
   ]
  },
  {
   "cell_type": "code",
   "execution_count": 20,
   "id": "f22efc29",
   "metadata": {},
   "outputs": [
    {
     "name": "stdout",
     "output_type": "stream",
     "text": [
      "{\n",
      "    \"COLUMN_NAME\": \"PULSE_PHASE\",\n",
      "    \"EPHEMERIS_FILE\": \"835-4510_tnfit_220401.par\",\n",
      "    \"PINT_VERS\": \"0.9.5\",\n",
      "    \"PSR\": \"J0835-4510\",\n",
      "    \"START\": 54682.71577,\n",
      "    \"FINISH\": 59662.01623,\n",
      "    \"TZRMJD\": 56623.15526603913,\n",
      "    \"TZRSITE\": \"coe\",\n",
      "    \"TZRFREQ\": null,\n",
      "    \"EPHEM\": \"DE421\",\n",
      "    \"RAJ\": 8.589058747222223,\n",
      "    \"DECJ\": -45.17635419444444,\n",
      "    \"PHASE_OFFSET\": null,\n",
      "    \"DATE\": 60103.67825028197\n",
      "}\n"
     ]
    }
   ],
   "source": [
    "meta_dict = eval(fermi_ev.table.meta[\"PHSE_LOG\"])\n",
    "print(json.dumps(meta_dict, indent=4))"
   ]
  },
  {
   "cell_type": "markdown",
   "id": "87b4eceb",
   "metadata": {},
   "source": [
    "Let's now see how we can write the pulsar phases to a new file. "
   ]
  },
  {
   "cell_type": "code",
   "execution_count": 21,
   "id": "3c54ca7d",
   "metadata": {},
   "outputs": [
    {
     "name": "stdout",
     "output_type": "stream",
     "text": [
      "TZRFREQ not found in ephemeris file /Users/mregeard/Workspace/data/GammaPulsar-data/ephemeris/vela/J0835-4510_tnfit_220401.par !\n"
     ]
    }
   ],
   "source": [
    "maker.write_column_and_meta(filename=\"tmp_phased_ev.fits\")"
   ]
  },
  {
   "cell_type": "markdown",
   "id": "61e784a4",
   "metadata": {},
   "source": [
    "We can check that the new file exist and that it contains the phases column. "
   ]
  },
  {
   "cell_type": "code",
   "execution_count": 22,
   "id": "98080e90",
   "metadata": {},
   "outputs": [],
   "source": [
    "fermi_ev_tmp = FermiEvents(filename=\"./tmp_phased_ev.fits\")"
   ]
  },
  {
   "cell_type": "code",
   "execution_count": 23,
   "id": "9218c916",
   "metadata": {
    "scrolled": true
   },
   "outputs": [
    {
     "data": {
      "text/html": [
       "<div><i>Table length=4899</i>\n",
       "<table id=\"table6058968112\" class=\"table-striped table-bordered table-condensed\">\n",
       "<thead><tr><th>ENERGY</th><th>RA</th><th>DEC</th><th>L</th><th>B</th><th>THETA</th><th>PHI</th><th>ZENITH_ANGLE</th><th>EARTH_AZIMUTH_ANGLE</th><th>TIME</th><th>EVENT_ID</th><th>RUN_ID</th><th>RECON_VERSION</th><th>CALIB_VERSION</th><th>EVENT_CLASS</th><th>EVENT_TYPE</th><th>CONVERSION_TYPE</th><th>LIVETIME</th><th>DIFRSP0</th><th>DIFRSP1</th><th>DIFRSP2</th><th>DIFRSP3</th><th>DIFRSP4</th><th>PULSE_PHASE</th></tr></thead>\n",
       "<thead><tr><th>MeV</th><th>deg</th><th>deg</th><th>deg</th><th>deg</th><th>deg</th><th>deg</th><th>deg</th><th>deg</th><th>s</th><th></th><th></th><th></th><th></th><th></th><th></th><th></th><th>s</th><th></th><th></th><th></th><th></th><th></th><th></th></tr></thead>\n",
       "<thead><tr><th>float32</th><th>float32</th><th>float32</th><th>float32</th><th>float32</th><th>float32</th><th>float32</th><th>float32</th><th>float32</th><th>float64</th><th>int32</th><th>int32</th><th>int16</th><th>int16[3]</th><th>bool[32]</th><th>bool[32]</th><th>int16</th><th>float64</th><th>float32</th><th>float32</th><th>float32</th><th>float32</th><th>float32</th><th>float64</th></tr></thead>\n",
       "<tr><td>52.199474</td><td>145.1223</td><td>-54.629803</td><td>277.55798</td><td>-1.4525373</td><td>9.108761</td><td>70.05413</td><td>44.111633</td><td>152.51736</td><td>499137738.6207186</td><td>1589304</td><td>499137307</td><td>0</td><td>0 .. 0</td><td>False .. True</td><td>False .. True</td><td>0</td><td>75.78507024049759</td><td>0.0</td><td>0.0</td><td>0.0</td><td>0.0</td><td>0.0</td><td>0.8431260226380742</td></tr>\n",
       "<tr><td>284.0746</td><td>143.75316</td><td>-56.40009</td><td>278.16013</td><td>-3.2889855</td><td>6.2098026</td><td>90.34294</td><td>44.42939</td><td>157.37547</td><td>499137789.82818514</td><td>1731249</td><td>499137307</td><td>0</td><td>0 .. 0</td><td>False .. True</td><td>False .. True</td><td>0</td><td>126.99253678321838</td><td>0.0</td><td>0.0</td><td>0.0</td><td>0.0</td><td>0.0</td><td>0.700449422177881</td></tr>\n",
       "<tr><td>46.53251</td><td>141.13872</td><td>-55.284657</td><td>276.32416</td><td>-3.4871144</td><td>7.5151353</td><td>112.30064</td><td>42.546646</td><td>160.13455</td><td>499137833.41689736</td><td>1846818</td><td>499137307</td><td>0</td><td>0 .. 0</td><td>False .. True</td><td>False .. True</td><td>0</td><td>170.58124899864197</td><td>0.0</td><td>0.0</td><td>0.0</td><td>0.0</td><td>0.0</td><td>0.3263010641267725</td></tr>\n",
       "<tr><td>513.7142</td><td>136.21635</td><td>-55.439697</td><td>274.50073</td><td>-5.619</td><td>32.575047</td><td>173.38452</td><td>57.94371</td><td>193.46944</td><td>499138503.8478784</td><td>3143157</td><td>499137307</td><td>0</td><td>0 .. 0</td><td>False .. True</td><td>False .. True</td><td>0</td><td>46.99963027238846</td><td>0.0</td><td>0.0</td><td>0.0</td><td>0.0</td><td>0.0</td><td>0.3597832684371744</td></tr>\n",
       "<tr><td>282.0987</td><td>139.33492</td><td>-56.89352</td><td>276.75735</td><td>-5.334833</td><td>10.782901</td><td>163.72531</td><td>44.94696</td><td>170.33803</td><td>499149417.65043396</td><td>372974</td><td>499149294</td><td>0</td><td>0 .. 0</td><td>False .. True</td><td>False .. True</td><td>0</td><td>120.00128203630447</td><td>0.0</td><td>0.0</td><td>0.0</td><td>0.0</td><td>0.0</td><td>0.8877265175614312</td></tr>\n",
       "<tr><td>396.63797</td><td>145.57863</td><td>-55.54905</td><td>278.35886</td><td>-1.9744414</td><td>8.541765</td><td>157.79271</td><td>45.28164</td><td>166.61441</td><td>499149449.159501</td><td>449548</td><td>499149294</td><td>0</td><td>0 .. 0</td><td>False .. True</td><td>False .. False</td><td>1</td><td>151.5103490948677</td><td>0.0</td><td>0.0</td><td>0.0</td><td>0.0</td><td>0.0</td><td>0.37723979413497455</td></tr>\n",
       "<tr><td>61.99164</td><td>141.82166</td><td>-56.967182</td><td>277.7733</td><td>-4.4282804</td><td>15.751049</td><td>176.12804</td><td>48.336662</td><td>176.27562</td><td>499149586.16385925</td><td>757033</td><td>499149294</td><td>0</td><td>0 .. 0</td><td>False .. True</td><td>False .. True</td><td>0</td><td>30.666968822479248</td><td>0.0</td><td>0.0</td><td>0.0</td><td>0.0</td><td>0.0</td><td>0.031491794002498005</td></tr>\n",
       "<tr><td>1194.454</td><td>142.68428</td><td>-54.689682</td><td>276.55283</td><td>-2.443972</td><td>19.719585</td><td>172.35884</td><td>49.000313</td><td>180.64934</td><td>499149704.38045764</td><td>998386</td><td>499149294</td><td>0</td><td>0 .. 0</td><td>False .. True</td><td>False .. True</td><td>0</td><td>148.88356721401215</td><td>0.0</td><td>0.0</td><td>0.0</td><td>0.0</td><td>0.0</td><td>0.5051692846469618</td></tr>\n",
       "<tr><td>256.74582</td><td>145.10135</td><td>-54.36117</td><td>277.37177</td><td>-1.2584938</td><td>25.707987</td><td>173.63463</td><td>54.13648</td><td>186.39784</td><td>499149888.3786183</td><td>1347166</td><td>499149294</td><td>0</td><td>0 .. 0</td><td>False .. True</td><td>False .. True</td><td>0</td><td>53.977064311504364</td><td>0.0</td><td>0.0</td><td>0.0</td><td>0.0</td><td>0.0</td><td>0.8622278331308556</td></tr>\n",
       "<tr><td>388.96347</td><td>141.35648</td><td>-55.485233</td><td>276.55325</td><td>-3.544119</td><td>35.3628</td><td>172.6196</td><td>62.70067</td><td>194.4824</td><td>499150071.6970757</td><td>1680007</td><td>499149294</td><td>0</td><td>0 .. 0</td><td>False .. True</td><td>False .. False</td><td>1</td><td>237.29552173614502</td><td>0.0</td><td>0.0</td><td>0.0</td><td>0.0</td><td>0.0</td><td>0.608790271040499</td></tr>\n",
       "<tr><td>1254.1447</td><td>141.1388</td><td>-55.975483</td><td>276.80887</td><td>-3.9803495</td><td>35.780018</td><td>174.64954</td><td>63.72382</td><td>194.39552</td><td>499161504.18185484</td><td>696436</td><td>499161207</td><td>0</td><td>0 .. 0</td><td>False .. True</td><td>False .. False</td><td>1</td><td>293.53092217445374</td><td>0.0</td><td>0.0</td><td>0.0</td><td>0.0</td><td>0.0</td><td>0.5692694365974444</td></tr>\n",
       "<tr><td>424.73218</td><td>146.89941</td><td>-54.22834</td><td>278.0835</td><td>-0.47597808</td><td>30.30634</td><td>43.98158</td><td>59.663242</td><td>139.7712</td><td>499171464.6009154</td><td>8264995</td><td>499167157</td><td>0</td><td>0 .. 0</td><td>False .. True</td><td>False .. True</td><td>0</td><td>16.963837444782257</td><td>0.0</td><td>0.0</td><td>0.0</td><td>0.0</td><td>0.0</td><td>0.6106001073494176</td></tr>\n",
       "<tr><td>101.21746</td><td>141.20685</td><td>-56.160233</td><td>276.96573</td><td>-4.085686</td><td>17.09148</td><td>50.990234</td><td>49.03428</td><td>145.72116</td><td>499171713.78986734</td><td>8789410</td><td>499167157</td><td>0</td><td>0 .. 0</td><td>False .. True</td><td>False .. True</td><td>0</td><td>0.0051801204681396484</td><td>0.0</td><td>0.0</td><td>0.0</td><td>0.0</td><td>0.0</td><td>0.3129879076030434</td></tr>\n",
       "<tr><td>663.33905</td><td>142.83493</td><td>-57.115643</td><td>278.27652</td><td>-4.156084</td><td>10.492716</td><td>53.93294</td><td>47.18674</td><td>150.87419</td><td>499171870.3144862</td><td>9109143</td><td>499167157</td><td>0</td><td>0 .. 0</td><td>False .. True</td><td>False .. False</td><td>1</td><td>156.5297989845276</td><td>0.0</td><td>0.0</td><td>0.0</td><td>0.0</td><td>0.0</td><td>0.36228885280969136</td></tr>\n",
       "<tr><td>54.665886</td><td>145.83064</td><td>-55.336716</td><td>278.3285</td><td>-1.7202737</td><td>42.856243</td><td>164.2693</td><td>72.46052</td><td>199.04623</td><td>499173180.82684153</td><td>536716</td><td>499172958</td><td>0</td><td>0 .. 0</td><td>False .. True</td><td>False .. True</td><td>0</td><td>219.1726993918419</td><td>0.0</td><td>0.0</td><td>0.0</td><td>0.0</td><td>0.0</td><td>0.897850582485491</td></tr>\n",
       "<tr><td>1277.2559</td><td>144.27737</td><td>-56.002308</td><td>278.1093</td><td>-2.798386</td><td>52.250675</td><td>54.55338</td><td>84.15366</td><td>149.0412</td><td>499182251.2573963</td><td>7745631</td><td>499178260</td><td>0</td><td>0 .. 0</td><td>False .. True</td><td>False .. False</td><td>1</td><td>53.68788254261017</td><td>0.0</td><td>0.0</td><td>0.0</td><td>0.0</td><td>0.0</td><td>0.5852648849103619</td></tr>\n",
       "<tr><td>104.92326</td><td>142.57379</td><td>-55.514767</td><td>277.07242</td><td>-3.0884757</td><td>49.36848</td><td>54.367332</td><td>79.81721</td><td>146.51302</td><td>499182335.87772185</td><td>8010877</td><td>499178260</td><td>0</td><td>0 .. 0</td><td>False .. True</td><td>False .. False</td><td>1</td><td>14.680038452148438</td><td>0.0</td><td>0.0</td><td>0.0</td><td>0.0</td><td>0.0</td><td>0.25104166458677435</td></tr>\n",
       "<tr><td>72.64915</td><td>143.32838</td><td>-56.70349</td><td>278.19284</td><td>-3.6708279</td><td>29.136976</td><td>45.740593</td><td>59.639034</td><td>142.57625</td><td>499182835.25923556</td><td>9583484</td><td>499178260</td><td>0</td><td>0 .. 0</td><td>False .. True</td><td>False .. True</td><td>0</td><td>103.97645872831345</td><td>0.0</td><td>0.0</td><td>0.0</td><td>0.0</td><td>0.0</td><td>0.9228181053809104</td></tr>\n",
       "<tr><td>320.29343</td><td>141.89552</td><td>-55.3469</td><td>276.67725</td><td>-3.231985</td><td>6.7213807</td><td>89.30022</td><td>44.21824</td><td>156.10065</td><td>499183461.77064973</td><td>11082807</td><td>499178260</td><td>0</td><td>0 .. 0</td><td>False .. True</td><td>False .. False</td><td>1</td><td>118.07559901475906</td><td>0.0</td><td>0.0</td><td>0.0</td><td>0.0</td><td>0.0</td><td>0.7493030674840534</td></tr>\n",
       "<tr><td>...</td><td>...</td><td>...</td><td>...</td><td>...</td><td>...</td><td>...</td><td>...</td><td>...</td><td>...</td><td>...</td><td>...</td><td>...</td><td>...</td><td>...</td><td>...</td><td>...</td><td>...</td><td>...</td><td>...</td><td>...</td><td>...</td><td>...</td><td>...</td></tr>\n",
       "<tr><td>225.90584</td><td>138.74373</td><td>-36.900265</td><td>262.03784</td><td>8.243806</td><td>25.937096</td><td>77.30843</td><td>37.85024</td><td>127.68227</td><td>499297571.33462805</td><td>4304484</td><td>499296422</td><td>0</td><td>0 .. 0</td><td>False .. True</td><td>False .. False</td><td>1</td><td>169.34670650959015</td><td>0.0</td><td>0.0</td><td>0.0</td><td>0.0</td><td>0.0</td><td>0.3742063874483244</td></tr>\n",
       "<tr><td>154.17245</td><td>137.89825</td><td>-37.144596</td><td>261.75397</td><td>7.5832834</td><td>24.701504</td><td>80.90357</td><td>36.251877</td><td>130.1044</td><td>499297603.00881004</td><td>4384717</td><td>499296422</td><td>0</td><td>0 .. 0</td><td>False .. True</td><td>False .. True</td><td>0</td><td>201.02088850736618</td><td>0.0</td><td>0.0</td><td>0.0</td><td>0.0</td><td>0.0</td><td>0.714036270984695</td></tr>\n",
       "<tr><td>117.74741</td><td>126.71643</td><td>-38.739975</td><td>257.42365</td><td>-0.2624032</td><td>22.415382</td><td>116.82771</td><td>27.750141</td><td>154.67412</td><td>499297743.4172173</td><td>4707932</td><td>499296422</td><td>0</td><td>0 .. 0</td><td>False .. True</td><td>False .. False</td><td>1</td><td>115.80997282266617</td><td>0.0</td><td>0.0</td><td>0.0</td><td>0.0</td><td>0.0</td><td>0.46314734295937493</td></tr>\n",
       "<tr><td>135.7589</td><td>131.52803</td><td>-31.976934</td><td>254.36333</td><td>6.9325857</td><td>27.351147</td><td>103.38582</td><td>24.990713</td><td>139.10973</td><td>499297753.019059</td><td>4728315</td><td>499296422</td><td>0</td><td>0 .. 0</td><td>False .. True</td><td>False .. True</td><td>0</td><td>125.4118145108223</td><td>0.0</td><td>0.0</td><td>0.0</td><td>0.0</td><td>0.0</td><td>0.8787831204871939</td></tr>\n",
       "<tr><td>293.7213</td><td>127.04734</td><td>-39.565395</td><td>258.24408</td><td>-0.5345087</td><td>21.54645</td><td>121.82512</td><td>28.545034</td><td>159.39885</td><td>499297785.5102985</td><td>4795377</td><td>499296422</td><td>0</td><td>0 .. 0</td><td>False .. True</td><td>False .. False</td><td>1</td><td>157.90305399894714</td><td>0.0</td><td>0.0</td><td>0.0</td><td>0.0</td><td>0.0</td><td>0.3575367402146453</td></tr>\n",
       "<tr><td>182.6508</td><td>125.33242</td><td>-39.336517</td><td>257.2939</td><td>-1.4849494</td><td>22.491745</td><td>126.15097</td><td>27.860987</td><td>163.332</td><td>499297800.6258639</td><td>4826175</td><td>499296422</td><td>0</td><td>0 .. 0</td><td>False .. True</td><td>False .. True</td><td>0</td><td>173.01861941814423</td><td>0.0</td><td>0.0</td><td>0.0</td><td>0.0</td><td>0.0</td><td>0.45492870744539704</td></tr>\n",
       "<tr><td>1493.3834</td><td>135.46152</td><td>-37.46499</td><td>260.6912</td><td>5.9263616</td><td>20.592358</td><td>104.9054</td><td>30.368069</td><td>147.77144</td><td>499297804.85365057</td><td>4834799</td><td>499296422</td><td>0</td><td>0 .. 0</td><td>False .. True</td><td>False .. False</td><td>1</td><td>177.24640607833862</td><td>0.0</td><td>0.0</td><td>0.0</td><td>0.0</td><td>0.0</td><td>0.7510448088863968</td></tr>\n",
       "<tr><td>211.68347</td><td>134.28159</td><td>-32.180904</td><td>256.0042</td><td>8.618341</td><td>25.74384</td><td>104.510826</td><td>25.579702</td><td>143.48021</td><td>499297821.7351265</td><td>4868613</td><td>499296422</td><td>0</td><td>0 .. 0</td><td>False .. True</td><td>False .. True</td><td>0</td><td>194.12788200378418</td><td>0.0</td><td>0.0</td><td>0.0</td><td>0.0</td><td>0.0</td><td>0.6035384591210036</td></tr>\n",
       "<tr><td>372.0462</td><td>140.17244</td><td>-36.998745</td><td>262.90802</td><td>9.0008545</td><td>19.335598</td><td>99.489365</td><td>32.008038</td><td>145.97359</td><td>499297851.5046814</td><td>4926616</td><td>499296422</td><td>0</td><td>0 .. 0</td><td>False .. True</td><td>False .. False</td><td>1</td><td>223.89743691682816</td><td>0.0</td><td>0.0</td><td>0.0</td><td>0.0</td><td>0.0</td><td>0.63435313116785</td></tr>\n",
       "<tr><td>515.14417</td><td>140.9862</td><td>-37.33605</td><td>263.6121</td><td>9.2267</td><td>18.18502</td><td>107.0379</td><td>32.074417</td><td>151.80983</td><td>499297923.40850437</td><td>5061595</td><td>499296422</td><td>0</td><td>0 .. 0</td><td>False .. True</td><td>False .. False</td><td>1</td><td>37.14664328098297</td><td>0.0</td><td>0.0</td><td>0.0</td><td>0.0</td><td>0.0</td><td>0.018597558687016312</td></tr>\n",
       "<tr><td>52.59737</td><td>134.16098</td><td>-39.470757</td><td>261.55032</td><td>3.846217</td><td>24.038548</td><td>149.32672</td><td>36.17929</td><td>183.47221</td><td>499298170.5803134</td><td>5483155</td><td>499296422</td><td>0</td><td>0 .. 0</td><td>False .. True</td><td>False .. False</td><td>1</td><td>3.987648665904999</td><td>0.0</td><td>0.0</td><td>0.0</td><td>0.0</td><td>0.0</td><td>0.10669177018270776</td></tr>\n",
       "<tr><td>188.62376</td><td>129.06554</td><td>-39.585476</td><td>259.18253</td><td>0.70627356</td><td>29.816683</td><td>157.47586</td><td>39.674656</td><td>194.36311</td><td>499298242.8786465</td><td>5600655</td><td>499296422</td><td>0</td><td>0 .. 0</td><td>False .. True</td><td>False .. False</td><td>1</td><td>76.28598177433014</td><td>0.0</td><td>0.0</td><td>0.0</td><td>0.0</td><td>0.0</td><td>0.8987065610412801</td></tr>\n",
       "<tr><td>1066.3567</td><td>124.480255</td><td>-39.712997</td><td>257.2335</td><td>-2.2400258</td><td>35.183083</td><td>162.53983</td><td>43.91489</td><td>202.19933</td><td>499298304.08791643</td><td>5700524</td><td>499296422</td><td>0</td><td>0 .. 0</td><td>False .. True</td><td>False .. False</td><td>1</td><td>137.49525171518326</td><td>0.0</td><td>0.0</td><td>0.0</td><td>0.0</td><td>0.0</td><td>0.6379178335610135</td></tr>\n",
       "<tr><td>3166.0886</td><td>129.6384</td><td>-38.77604</td><td>258.80597</td><td>1.5492604</td><td>35.316467</td><td>161.34132</td><td>45.644165</td><td>202.15492</td><td>499298400.4768437</td><td>5858273</td><td>499296422</td><td>0</td><td>0 .. 0</td><td>False .. True</td><td>False .. True</td><td>0</td><td>233.88417899608612</td><td>0.0</td><td>0.0</td><td>0.0</td><td>0.0</td><td>0.0</td><td>0.9252612041220637</td></tr>\n",
       "<tr><td>437.8083</td><td>142.02579</td><td>-37.064106</td><td>264.0133</td><td>10.003334</td><td>27.846178</td><td>153.50656</td><td>41.90988</td><td>191.79123</td><td>499298435.61583287</td><td>5916439</td><td>499296422</td><td>0</td><td>0 .. 0</td><td>False .. True</td><td>False .. True</td><td>0</td><td>6.057884633541107</td><td>0.0</td><td>0.0</td><td>0.0</td><td>0.0</td><td>0.0</td><td>0.018994916203239353</td></tr>\n",
       "<tr><td>297.1876</td><td>136.24277</td><td>-37.380833</td><td>261.03983</td><td>6.447795</td><td>33.118736</td><td>157.7121</td><td>44.877956</td><td>199.41534</td><td>499298462.52141786</td><td>5961495</td><td>499296422</td><td>0</td><td>0 .. 0</td><td>False .. True</td><td>False .. True</td><td>0</td><td>32.96346962451935</td><td>0.0</td><td>0.0</td><td>0.0</td><td>0.0</td><td>0.0</td><td>0.006918495920165331</td></tr>\n",
       "<tr><td>9615.743</td><td>134.87793</td><td>-32.933273</td><td>256.91373</td><td>8.519132</td><td>36.201355</td><td>151.42456</td><td>42.042908</td><td>204.47147</td><td>499298475.9519633</td><td>5983979</td><td>499296422</td><td>0</td><td>0 .. 0</td><td>False .. True</td><td>False .. False</td><td>1</td><td>46.394015073776245</td><td>0.0</td><td>0.0</td><td>0.0</td><td>0.0</td><td>0.0</td><td>0.2519568074241076</td></tr>\n",
       "<tr><td>263.03574</td><td>134.95343</td><td>-37.00018</td><td>260.0717</td><td>5.924866</td><td>39.421516</td><td>159.81625</td><td>51.444687</td><td>206.89809</td><td>499298598.77208596</td><td>6195127</td><td>499296422</td><td>0</td><td>0 .. 0</td><td>False .. True</td><td>False .. True</td><td>0</td><td>169.21413773298264</td><td>0.0</td><td>0.0</td><td>0.0</td><td>0.0</td><td>0.0</td><td>0.21661655731227075</td></tr>\n",
       "<tr><td>1424.0302</td><td>127.8513</td><td>-38.442913</td><td>257.70267</td><td>0.6304529</td><td>62.952938</td><td>146.24492</td><td>80.985306</td><td>224.02386</td><td>499299058.6257986</td><td>7017477</td><td>499296422</td><td>0</td><td>0 .. 0</td><td>False .. True</td><td>False .. True</td><td>0</td><td>20.025878250598907</td><td>0.0</td><td>0.0</td><td>0.0</td><td>0.0</td><td>0.0</td><td>0.4934066626707047</td></tr>\n",
       "</table></div>"
      ],
      "text/plain": [
       "<Table length=4899>\n",
       "  ENERGY      RA        DEC         L          B      ... DIFRSP1 DIFRSP2 DIFRSP3 DIFRSP4     PULSE_PHASE     \n",
       "   MeV       deg        deg        deg        deg     ...                                                     \n",
       " float32   float32    float32    float32    float32   ... float32 float32 float32 float32       float64       \n",
       "--------- ---------- ---------- --------- ----------- ... ------- ------- ------- ------- --------------------\n",
       "52.199474   145.1223 -54.629803 277.55798  -1.4525373 ...     0.0     0.0     0.0     0.0   0.8431260226380742\n",
       " 284.0746  143.75316  -56.40009 278.16013  -3.2889855 ...     0.0     0.0     0.0     0.0    0.700449422177881\n",
       " 46.53251  141.13872 -55.284657 276.32416  -3.4871144 ...     0.0     0.0     0.0     0.0   0.3263010641267725\n",
       " 513.7142  136.21635 -55.439697 274.50073      -5.619 ...     0.0     0.0     0.0     0.0   0.3597832684371744\n",
       " 282.0987  139.33492  -56.89352 276.75735   -5.334833 ...     0.0     0.0     0.0     0.0   0.8877265175614312\n",
       "396.63797  145.57863  -55.54905 278.35886  -1.9744414 ...     0.0     0.0     0.0     0.0  0.37723979413497455\n",
       " 61.99164  141.82166 -56.967182  277.7733  -4.4282804 ...     0.0     0.0     0.0     0.0 0.031491794002498005\n",
       " 1194.454  142.68428 -54.689682 276.55283   -2.443972 ...     0.0     0.0     0.0     0.0   0.5051692846469618\n",
       "256.74582  145.10135  -54.36117 277.37177  -1.2584938 ...     0.0     0.0     0.0     0.0   0.8622278331308556\n",
       "388.96347  141.35648 -55.485233 276.55325   -3.544119 ...     0.0     0.0     0.0     0.0    0.608790271040499\n",
       "1254.1447   141.1388 -55.975483 276.80887  -3.9803495 ...     0.0     0.0     0.0     0.0   0.5692694365974444\n",
       "424.73218  146.89941  -54.22834  278.0835 -0.47597808 ...     0.0     0.0     0.0     0.0   0.6106001073494176\n",
       "101.21746  141.20685 -56.160233 276.96573   -4.085686 ...     0.0     0.0     0.0     0.0   0.3129879076030434\n",
       "663.33905  142.83493 -57.115643 278.27652   -4.156084 ...     0.0     0.0     0.0     0.0  0.36228885280969136\n",
       "54.665886  145.83064 -55.336716  278.3285  -1.7202737 ...     0.0     0.0     0.0     0.0    0.897850582485491\n",
       "1277.2559  144.27737 -56.002308  278.1093   -2.798386 ...     0.0     0.0     0.0     0.0   0.5852648849103619\n",
       "104.92326  142.57379 -55.514767 277.07242  -3.0884757 ...     0.0     0.0     0.0     0.0  0.25104166458677435\n",
       " 72.64915  143.32838  -56.70349 278.19284  -3.6708279 ...     0.0     0.0     0.0     0.0   0.9228181053809104\n",
       "320.29343  141.89552   -55.3469 276.67725   -3.231985 ...     0.0     0.0     0.0     0.0   0.7493030674840534\n",
       "      ...        ...        ...       ...         ... ...     ...     ...     ...     ...                  ...\n",
       "225.90584  138.74373 -36.900265 262.03784    8.243806 ...     0.0     0.0     0.0     0.0   0.3742063874483244\n",
       "154.17245  137.89825 -37.144596 261.75397   7.5832834 ...     0.0     0.0     0.0     0.0    0.714036270984695\n",
       "117.74741  126.71643 -38.739975 257.42365  -0.2624032 ...     0.0     0.0     0.0     0.0  0.46314734295937493\n",
       " 135.7589  131.52803 -31.976934 254.36333   6.9325857 ...     0.0     0.0     0.0     0.0   0.8787831204871939\n",
       " 293.7213  127.04734 -39.565395 258.24408  -0.5345087 ...     0.0     0.0     0.0     0.0   0.3575367402146453\n",
       " 182.6508  125.33242 -39.336517  257.2939  -1.4849494 ...     0.0     0.0     0.0     0.0  0.45492870744539704\n",
       "1493.3834  135.46152  -37.46499  260.6912   5.9263616 ...     0.0     0.0     0.0     0.0   0.7510448088863968\n",
       "211.68347  134.28159 -32.180904  256.0042    8.618341 ...     0.0     0.0     0.0     0.0   0.6035384591210036\n",
       " 372.0462  140.17244 -36.998745 262.90802   9.0008545 ...     0.0     0.0     0.0     0.0     0.63435313116785\n",
       "515.14417   140.9862  -37.33605  263.6121      9.2267 ...     0.0     0.0     0.0     0.0 0.018597558687016312\n",
       " 52.59737  134.16098 -39.470757 261.55032    3.846217 ...     0.0     0.0     0.0     0.0  0.10669177018270776\n",
       "188.62376  129.06554 -39.585476 259.18253  0.70627356 ...     0.0     0.0     0.0     0.0   0.8987065610412801\n",
       "1066.3567 124.480255 -39.712997  257.2335  -2.2400258 ...     0.0     0.0     0.0     0.0   0.6379178335610135\n",
       "3166.0886   129.6384  -38.77604 258.80597   1.5492604 ...     0.0     0.0     0.0     0.0   0.9252612041220637\n",
       " 437.8083  142.02579 -37.064106  264.0133   10.003334 ...     0.0     0.0     0.0     0.0 0.018994916203239353\n",
       " 297.1876  136.24277 -37.380833 261.03983    6.447795 ...     0.0     0.0     0.0     0.0 0.006918495920165331\n",
       " 9615.743  134.87793 -32.933273 256.91373    8.519132 ...     0.0     0.0     0.0     0.0   0.2519568074241076\n",
       "263.03574  134.95343  -37.00018  260.0717    5.924866 ...     0.0     0.0     0.0     0.0  0.21661655731227075\n",
       "1424.0302   127.8513 -38.442913 257.70267   0.6304529 ...     0.0     0.0     0.0     0.0   0.4934066626707047"
      ]
     },
     "execution_count": 23,
     "metadata": {},
     "output_type": "execute_result"
    }
   ],
   "source": [
    "fermi_ev_tmp.table"
   ]
  },
  {
   "cell_type": "markdown",
   "id": "79a60f33",
   "metadata": {},
   "source": [
    "Finally, let's delete the temporary file that we have just created. "
   ]
  },
  {
   "cell_type": "code",
   "execution_count": 24,
   "id": "5f857b7a",
   "metadata": {},
   "outputs": [
    {
     "name": "stdout",
     "output_type": "stream",
     "text": [
      "fermi_phases.ipynb\r\n"
     ]
    }
   ],
   "source": [
    "!rm tmp_phased_ev.fits\n",
    "!ls"
   ]
  }
 ],
 "metadata": {
  "kernelspec": {
   "display_name": "Python 3 (ipykernel)",
   "language": "python",
   "name": "python3"
  },
  "language_info": {
   "codemirror_mode": {
    "name": "ipython",
    "version": 3
   },
   "file_extension": ".py",
   "mimetype": "text/x-python",
   "name": "python",
   "nbconvert_exporter": "python",
   "pygments_lexer": "ipython3",
   "version": "3.9.16"
  }
 },
 "nbformat": 4,
 "nbformat_minor": 5
}
